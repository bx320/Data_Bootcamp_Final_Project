{
 "cells": [
  {
   "cell_type": "markdown",
   "metadata": {},
   "source": [
    "# **What factors put college students at higher risk for illness?**"
   ]
  },
  {
   "cell_type": "markdown",
   "metadata": {},
   "source": [
    "**Head Detective:** Brenda Xu <br>\n",
    "**Email:** bx320@stern.nyu.edu"
   ]
  },
  {
   "cell_type": "markdown",
   "metadata": {},
   "source": [
    "For my project, I will be using two data sets I found on Kaggle, in order to see if the food preferences and eating habits of college students with a certain characteristic will put them at a higher risk of an adverse food-related event. The two datasets are: [Adverse Food Events](https://www.kaggle.com/fda/adverse-food-events) and [Food Choices of College Students](https://www.kaggle.com/borapajo/food-choices)."
   ]
  },
  {
   "cell_type": "markdown",
   "metadata": {},
   "source": [
    "**Access:** All the data I used came from the Adverse Food Events and Food Choices of College students dataset. For ease of access, I have reuploaded them to my Github so that Pandas can read the raw csv.\n",
    "All of the data was originally downloaded off the website as a .zip file, which can be found by following the links above."
   ]
  },
  {
   "cell_type": "markdown",
   "metadata": {},
   "source": [
    "## Overview"
   ]
  },
  {
   "cell_type": "markdown",
   "metadata": {},
   "source": [
    "There is a two-part analysis. The first is on the kinds of food that cause severe symptoms, in this case, death. For the severe symptoms section, I filtered the adverse food events file to only include events that ended in death, then looked at the industry group that those foods were in. I then matched the industry group to how often students consume them, and then filtered the students by gender, GPA, family income, to see if there was a difference in how often they consume this highly dangerous type of food, and if there was a difference based on any of the characteristics I chose.\n",
    "\n",
    "The second part follows the same process, except that the analysis is on mild symptoms, in this case malaise, vomiting, and nausea. \n",
    "\n",
    "This is meant to be a lighthearted project where I manipulate and apply data from two seemingly unrelated datasets. Please do not follow the conclusions from the data."
   ]
  },
  {
   "cell_type": "markdown",
   "metadata": {},
   "source": [
    "## Project start!"
   ]
  },
  {
   "cell_type": "code",
   "execution_count": 273,
   "metadata": {
    "collapsed": true
   },
   "outputs": [],
   "source": [
    "#below are the required packages\n",
    "import pandas as pd\n",
    "import numpy as np\n",
    "import matplotlib.pyplot as plt\n"
   ]
  },
  {
   "cell_type": "markdown",
   "metadata": {},
   "source": [
    "First, I will read in the file that contains a list of about 90,000 adverse food-related events, collected by the FDA between 2004 and 2017. A detailed description of column contents is [here](https://www.fda.gov/downloads/Food/ComplianceEnforcement/UCM494019.pdf). The most important columns for this project are \"PRI_FDA Industry Name\" which was later renamed to \"Industry_Name\", \"AEC_One Row Outcomes\" which was later renamed \"Outcome\", and \"SYM_One Row Coded Symptoms\" which was later renamed to \"Symptoms\". "
   ]
  },
  {
   "cell_type": "code",
   "execution_count": 274,
   "metadata": {
    "scrolled": true
   },
   "outputs": [
    {
     "data": {
      "text/html": [
       "<div>\n",
       "<style scoped>\n",
       "    .dataframe tbody tr th:only-of-type {\n",
       "        vertical-align: middle;\n",
       "    }\n",
       "\n",
       "    .dataframe tbody tr th {\n",
       "        vertical-align: top;\n",
       "    }\n",
       "\n",
       "    .dataframe thead th {\n",
       "        text-align: right;\n",
       "    }\n",
       "</style>\n",
       "<table border=\"1\" class=\"dataframe\">\n",
       "  <thead>\n",
       "    <tr style=\"text-align: right;\">\n",
       "      <th></th>\n",
       "      <th>RA_Report #</th>\n",
       "      <th>RA_CAERS Created Date</th>\n",
       "      <th>AEC_Event Start Date</th>\n",
       "      <th>PRI_Product Role</th>\n",
       "      <th>PRI_Reported Brand/Product Name</th>\n",
       "      <th>PRI_FDA Industry Code</th>\n",
       "      <th>PRI_FDA Industry Name</th>\n",
       "      <th>CI_Age at Adverse Event</th>\n",
       "      <th>CI_Age Unit</th>\n",
       "      <th>CI_Gender</th>\n",
       "      <th>AEC_One Row Outcomes</th>\n",
       "      <th>SYM_One Row Coded Symptoms</th>\n",
       "    </tr>\n",
       "  </thead>\n",
       "  <tbody>\n",
       "    <tr>\n",
       "      <th>0</th>\n",
       "      <td>65325</td>\n",
       "      <td>1/1/2004</td>\n",
       "      <td>8/4/2003</td>\n",
       "      <td>Suspect</td>\n",
       "      <td>MIDWEST COUNTRY FAIR CHOCOLATE FLAVORED CHIPS</td>\n",
       "      <td>3</td>\n",
       "      <td>Bakery Prod/Dough/Mix/Icing</td>\n",
       "      <td>2.0</td>\n",
       "      <td>Year(s)</td>\n",
       "      <td>Female</td>\n",
       "      <td>VISITED AN ER, VISITED A HEALTH CARE PROVIDER,...</td>\n",
       "      <td>SWELLING FACE, RASH, WHEEZING, COUGH, HOSPITAL...</td>\n",
       "    </tr>\n",
       "    <tr>\n",
       "      <th>1</th>\n",
       "      <td>65325</td>\n",
       "      <td>1/1/2004</td>\n",
       "      <td>8/4/2003</td>\n",
       "      <td>Suspect</td>\n",
       "      <td>MIDWEST COUNTRY FAIR CHOCOLATE FLAVORED CHIPS</td>\n",
       "      <td>3</td>\n",
       "      <td>Bakery Prod/Dough/Mix/Icing</td>\n",
       "      <td>2.0</td>\n",
       "      <td>Year(s)</td>\n",
       "      <td>Female</td>\n",
       "      <td>VISITED AN ER, VISITED A HEALTH CARE PROVIDER,...</td>\n",
       "      <td>SWELLING FACE, WHEEZING, COUGH, RASH, HOSPITAL...</td>\n",
       "    </tr>\n",
       "    <tr>\n",
       "      <th>2</th>\n",
       "      <td>65333</td>\n",
       "      <td>1/1/2004</td>\n",
       "      <td>NaN</td>\n",
       "      <td>Suspect</td>\n",
       "      <td>KROGER CLASSIC CREAM-DE-MINT CANDY MINT CHIP I...</td>\n",
       "      <td>13</td>\n",
       "      <td>Ice Cream Prod</td>\n",
       "      <td>NaN</td>\n",
       "      <td>Not Available</td>\n",
       "      <td>Female</td>\n",
       "      <td>VISITED AN ER</td>\n",
       "      <td>NAUSEA, DYSGEUSIA, DIARRHOEA</td>\n",
       "    </tr>\n",
       "    <tr>\n",
       "      <th>3</th>\n",
       "      <td>65335</td>\n",
       "      <td>1/1/2004</td>\n",
       "      <td>11/24/2003</td>\n",
       "      <td>Suspect</td>\n",
       "      <td>ENFAMIL LIPIL BABY FORMULA</td>\n",
       "      <td>40</td>\n",
       "      <td>Baby Food Prod</td>\n",
       "      <td>3.0</td>\n",
       "      <td>Month(s)</td>\n",
       "      <td>Not Available</td>\n",
       "      <td>NON-SERIOUS INJURIES/ ILLNESS</td>\n",
       "      <td>GASTROINTESTINAL DISORDER, VOMITING</td>\n",
       "    </tr>\n",
       "    <tr>\n",
       "      <th>4</th>\n",
       "      <td>65336</td>\n",
       "      <td>1/1/2004</td>\n",
       "      <td>NaN</td>\n",
       "      <td>Suspect</td>\n",
       "      <td>ENFIMIL LIPIL BABY FORMULA</td>\n",
       "      <td>40</td>\n",
       "      <td>Baby Food Prod</td>\n",
       "      <td>NaN</td>\n",
       "      <td>Not Available</td>\n",
       "      <td>Not Available</td>\n",
       "      <td>VISITED A HEALTH CARE PROVIDER</td>\n",
       "      <td>GASTROINTESTINAL DISORDER, PHYSICAL EXAMINATION</td>\n",
       "    </tr>\n",
       "  </tbody>\n",
       "</table>\n",
       "</div>"
      ],
      "text/plain": [
       "   RA_Report # RA_CAERS Created Date AEC_Event Start Date PRI_Product Role  \\\n",
       "0        65325              1/1/2004             8/4/2003          Suspect   \n",
       "1        65325              1/1/2004             8/4/2003          Suspect   \n",
       "2        65333              1/1/2004                  NaN          Suspect   \n",
       "3        65335              1/1/2004           11/24/2003          Suspect   \n",
       "4        65336              1/1/2004                  NaN          Suspect   \n",
       "\n",
       "                     PRI_Reported Brand/Product Name  PRI_FDA Industry Code  \\\n",
       "0      MIDWEST COUNTRY FAIR CHOCOLATE FLAVORED CHIPS                      3   \n",
       "1      MIDWEST COUNTRY FAIR CHOCOLATE FLAVORED CHIPS                      3   \n",
       "2  KROGER CLASSIC CREAM-DE-MINT CANDY MINT CHIP I...                     13   \n",
       "3                         ENFAMIL LIPIL BABY FORMULA                     40   \n",
       "4                         ENFIMIL LIPIL BABY FORMULA                     40   \n",
       "\n",
       "         PRI_FDA Industry Name  CI_Age at Adverse Event    CI_Age Unit  \\\n",
       "0  Bakery Prod/Dough/Mix/Icing                      2.0        Year(s)   \n",
       "1  Bakery Prod/Dough/Mix/Icing                      2.0        Year(s)   \n",
       "2               Ice Cream Prod                      NaN  Not Available   \n",
       "3               Baby Food Prod                      3.0       Month(s)   \n",
       "4               Baby Food Prod                      NaN  Not Available   \n",
       "\n",
       "       CI_Gender                               AEC_One Row Outcomes  \\\n",
       "0         Female  VISITED AN ER, VISITED A HEALTH CARE PROVIDER,...   \n",
       "1         Female  VISITED AN ER, VISITED A HEALTH CARE PROVIDER,...   \n",
       "2         Female                                      VISITED AN ER   \n",
       "3  Not Available                      NON-SERIOUS INJURIES/ ILLNESS   \n",
       "4  Not Available                     VISITED A HEALTH CARE PROVIDER   \n",
       "\n",
       "                          SYM_One Row Coded Symptoms  \n",
       "0  SWELLING FACE, RASH, WHEEZING, COUGH, HOSPITAL...  \n",
       "1  SWELLING FACE, WHEEZING, COUGH, RASH, HOSPITAL...  \n",
       "2                       NAUSEA, DYSGEUSIA, DIARRHOEA  \n",
       "3                GASTROINTESTINAL DISORDER, VOMITING  \n",
       "4    GASTROINTESTINAL DISORDER, PHYSICAL EXAMINATION  "
      ]
     },
     "execution_count": 274,
     "metadata": {},
     "output_type": "execute_result"
    }
   ],
   "source": [
    "url = \"https://raw.githubusercontent.com/bx320/Data_Bootcamp_Final_Project/master/CAERS_ASCII_2004_2017Q2.csv\"\n",
    "\n",
    "adverse = pd.read_csv(url)\n",
    "adverse.head(5)"
   ]
  },
  {
   "cell_type": "code",
   "execution_count": 275,
   "metadata": {
    "collapsed": true
   },
   "outputs": [],
   "source": [
    "adverse.columns = [\"Report_ID\", \"Event_Entered\", \"Event_Start_Date\", \"Suspect_or_Concomitant?\",\"Product_Name\", \"Industry_Code\", \n",
    "                  \"Industry_Name\", \"Consumer_Age\", \"Units_of_Age\", \"Gender\", \"Outcome\", \"Symptoms\"]\n",
    "#renaming the columns for clarity"
   ]
  },
  {
   "cell_type": "markdown",
   "metadata": {},
   "source": [
    "The most important columns for this project are \"Industry_Name\", \"Outcome\", and \"Symptoms\". Industry_Name gives a broad categorization of what the food is, such as a baked good, fruit, vegetable, cosmetic item, etc. Outcome tells what happened to the patient. The entries under Outcome include \"Visited an ER\", \"Visited a health care provider\", \"Non-serious injuries/illness\", and others. Symptoms tells the symptoms experienced by the patient. There is a large variety of symptoms, such as wheezing, cough, rash, headache, etc.\n",
    "\n",
    "For example, the first entry under adverse indicates that a 2 year old female experienced a swelling of the face, rash, wheezing, cough, etc., and visited a health care provider and an ER after consuming Midwest Country Fair Chocolate Flavored Chips on August 04, 2003."
   ]
  },
  {
   "cell_type": "code",
   "execution_count": 276,
   "metadata": {},
   "outputs": [],
   "source": [
    "del adverse['Suspect_or_Concomitant?'] #not significant, almost all entries were suspect\n",
    "del adverse[\"Industry_Code\"] #numerical indication of  Industry_Name, redundant\n",
    "del adverse[\"Event_Entered\"] #some events happened before 2004, but were only recorded starting in January 2004\n"
   ]
  },
  {
   "cell_type": "code",
   "execution_count": 277,
   "metadata": {},
   "outputs": [],
   "source": [
    "adverse = adverse.set_index(\"Report_ID\") #looks better, and can fit without scrolling horizontally"
   ]
  },
  {
   "cell_type": "code",
   "execution_count": 278,
   "metadata": {},
   "outputs": [
    {
     "data": {
      "text/html": [
       "<div>\n",
       "<style scoped>\n",
       "    .dataframe tbody tr th:only-of-type {\n",
       "        vertical-align: middle;\n",
       "    }\n",
       "\n",
       "    .dataframe tbody tr th {\n",
       "        vertical-align: top;\n",
       "    }\n",
       "\n",
       "    .dataframe thead th {\n",
       "        text-align: right;\n",
       "    }\n",
       "</style>\n",
       "<table border=\"1\" class=\"dataframe\">\n",
       "  <thead>\n",
       "    <tr style=\"text-align: right;\">\n",
       "      <th></th>\n",
       "      <th>Event_Start_Date</th>\n",
       "      <th>Product_Name</th>\n",
       "      <th>Industry_Name</th>\n",
       "      <th>Consumer_Age</th>\n",
       "      <th>Units_of_Age</th>\n",
       "      <th>Gender</th>\n",
       "      <th>Outcome</th>\n",
       "      <th>Symptoms</th>\n",
       "    </tr>\n",
       "    <tr>\n",
       "      <th>Report_ID</th>\n",
       "      <th></th>\n",
       "      <th></th>\n",
       "      <th></th>\n",
       "      <th></th>\n",
       "      <th></th>\n",
       "      <th></th>\n",
       "      <th></th>\n",
       "      <th></th>\n",
       "    </tr>\n",
       "  </thead>\n",
       "  <tbody>\n",
       "    <tr>\n",
       "      <th>65325</th>\n",
       "      <td>8/4/2003</td>\n",
       "      <td>MIDWEST COUNTRY FAIR CHOCOLATE FLAVORED CHIPS</td>\n",
       "      <td>Bakery Prod/Dough/Mix/Icing</td>\n",
       "      <td>2.0</td>\n",
       "      <td>Year(s)</td>\n",
       "      <td>Female</td>\n",
       "      <td>VISITED AN ER, VISITED A HEALTH CARE PROVIDER,...</td>\n",
       "      <td>SWELLING FACE, RASH, WHEEZING, COUGH, HOSPITAL...</td>\n",
       "    </tr>\n",
       "    <tr>\n",
       "      <th>65325</th>\n",
       "      <td>8/4/2003</td>\n",
       "      <td>MIDWEST COUNTRY FAIR CHOCOLATE FLAVORED CHIPS</td>\n",
       "      <td>Bakery Prod/Dough/Mix/Icing</td>\n",
       "      <td>2.0</td>\n",
       "      <td>Year(s)</td>\n",
       "      <td>Female</td>\n",
       "      <td>VISITED AN ER, VISITED A HEALTH CARE PROVIDER,...</td>\n",
       "      <td>SWELLING FACE, WHEEZING, COUGH, RASH, HOSPITAL...</td>\n",
       "    </tr>\n",
       "    <tr>\n",
       "      <th>65333</th>\n",
       "      <td>NaN</td>\n",
       "      <td>KROGER CLASSIC CREAM-DE-MINT CANDY MINT CHIP I...</td>\n",
       "      <td>Ice Cream Prod</td>\n",
       "      <td>NaN</td>\n",
       "      <td>Not Available</td>\n",
       "      <td>Female</td>\n",
       "      <td>VISITED AN ER</td>\n",
       "      <td>NAUSEA, DYSGEUSIA, DIARRHOEA</td>\n",
       "    </tr>\n",
       "    <tr>\n",
       "      <th>65335</th>\n",
       "      <td>11/24/2003</td>\n",
       "      <td>ENFAMIL LIPIL BABY FORMULA</td>\n",
       "      <td>Baby Food Prod</td>\n",
       "      <td>3.0</td>\n",
       "      <td>Month(s)</td>\n",
       "      <td>Not Available</td>\n",
       "      <td>NON-SERIOUS INJURIES/ ILLNESS</td>\n",
       "      <td>GASTROINTESTINAL DISORDER, VOMITING</td>\n",
       "    </tr>\n",
       "    <tr>\n",
       "      <th>65336</th>\n",
       "      <td>NaN</td>\n",
       "      <td>ENFIMIL LIPIL BABY FORMULA</td>\n",
       "      <td>Baby Food Prod</td>\n",
       "      <td>NaN</td>\n",
       "      <td>Not Available</td>\n",
       "      <td>Not Available</td>\n",
       "      <td>VISITED A HEALTH CARE PROVIDER</td>\n",
       "      <td>GASTROINTESTINAL DISORDER, PHYSICAL EXAMINATION</td>\n",
       "    </tr>\n",
       "  </tbody>\n",
       "</table>\n",
       "</div>"
      ],
      "text/plain": [
       "          Event_Start_Date                                       Product_Name  \\\n",
       "Report_ID                                                                       \n",
       "65325             8/4/2003      MIDWEST COUNTRY FAIR CHOCOLATE FLAVORED CHIPS   \n",
       "65325             8/4/2003      MIDWEST COUNTRY FAIR CHOCOLATE FLAVORED CHIPS   \n",
       "65333                  NaN  KROGER CLASSIC CREAM-DE-MINT CANDY MINT CHIP I...   \n",
       "65335           11/24/2003                         ENFAMIL LIPIL BABY FORMULA   \n",
       "65336                  NaN                         ENFIMIL LIPIL BABY FORMULA   \n",
       "\n",
       "                         Industry_Name  Consumer_Age   Units_of_Age  \\\n",
       "Report_ID                                                             \n",
       "65325      Bakery Prod/Dough/Mix/Icing           2.0        Year(s)   \n",
       "65325      Bakery Prod/Dough/Mix/Icing           2.0        Year(s)   \n",
       "65333                   Ice Cream Prod           NaN  Not Available   \n",
       "65335                   Baby Food Prod           3.0       Month(s)   \n",
       "65336                   Baby Food Prod           NaN  Not Available   \n",
       "\n",
       "                  Gender                                            Outcome  \\\n",
       "Report_ID                                                                     \n",
       "65325             Female  VISITED AN ER, VISITED A HEALTH CARE PROVIDER,...   \n",
       "65325             Female  VISITED AN ER, VISITED A HEALTH CARE PROVIDER,...   \n",
       "65333             Female                                      VISITED AN ER   \n",
       "65335      Not Available                      NON-SERIOUS INJURIES/ ILLNESS   \n",
       "65336      Not Available                     VISITED A HEALTH CARE PROVIDER   \n",
       "\n",
       "                                                    Symptoms  \n",
       "Report_ID                                                     \n",
       "65325      SWELLING FACE, RASH, WHEEZING, COUGH, HOSPITAL...  \n",
       "65325      SWELLING FACE, WHEEZING, COUGH, RASH, HOSPITAL...  \n",
       "65333                           NAUSEA, DYSGEUSIA, DIARRHOEA  \n",
       "65335                    GASTROINTESTINAL DISORDER, VOMITING  \n",
       "65336        GASTROINTESTINAL DISORDER, PHYSICAL EXAMINATION  "
      ]
     },
     "execution_count": 278,
     "metadata": {},
     "output_type": "execute_result"
    }
   ],
   "source": [
    "adverse.head()"
   ]
  },
  {
   "cell_type": "markdown",
   "metadata": {},
   "source": [
    "Next, I will read in the college_foods preferences dataset. This dataset also came from Kaggle, and contains 126 entries from a survey done of students at Mercyhurst University, a Catholic liberal arts college in Pennsylvania. "
   ]
  },
  {
   "cell_type": "code",
   "execution_count": 279,
   "metadata": {
    "collapsed": true
   },
   "outputs": [],
   "source": [
    "url1 = \"https://raw.githubusercontent.com/bx320/Data_Bootcamp_Final_Project/master/food_coded.csv\"\n",
    "college_food = pd.read_csv(url1)"
   ]
  },
  {
   "cell_type": "code",
   "execution_count": 280,
   "metadata": {},
   "outputs": [
    {
     "data": {
      "text/html": [
       "<div>\n",
       "<style scoped>\n",
       "    .dataframe tbody tr th:only-of-type {\n",
       "        vertical-align: middle;\n",
       "    }\n",
       "\n",
       "    .dataframe tbody tr th {\n",
       "        vertical-align: top;\n",
       "    }\n",
       "\n",
       "    .dataframe thead th {\n",
       "        text-align: right;\n",
       "    }\n",
       "</style>\n",
       "<table border=\"1\" class=\"dataframe\">\n",
       "  <thead>\n",
       "    <tr style=\"text-align: right;\">\n",
       "      <th></th>\n",
       "      <th>GPA</th>\n",
       "      <th>Gender</th>\n",
       "      <th>breakfast</th>\n",
       "      <th>calories_chicken</th>\n",
       "      <th>calories_day</th>\n",
       "      <th>calories_scone</th>\n",
       "      <th>coffee</th>\n",
       "      <th>comfort_food</th>\n",
       "      <th>comfort_food_reasons</th>\n",
       "      <th>comfort_food_reasons_coded</th>\n",
       "      <th>...</th>\n",
       "      <th>soup</th>\n",
       "      <th>sports</th>\n",
       "      <th>thai_food</th>\n",
       "      <th>tortilla_calories</th>\n",
       "      <th>turkey_calories</th>\n",
       "      <th>type_sports</th>\n",
       "      <th>veggies_day</th>\n",
       "      <th>vitamins</th>\n",
       "      <th>waffle_calories</th>\n",
       "      <th>weight</th>\n",
       "    </tr>\n",
       "  </thead>\n",
       "  <tbody>\n",
       "    <tr>\n",
       "      <th>0</th>\n",
       "      <td>2.4</td>\n",
       "      <td>2</td>\n",
       "      <td>1</td>\n",
       "      <td>430</td>\n",
       "      <td>NaN</td>\n",
       "      <td>315.0</td>\n",
       "      <td>1</td>\n",
       "      <td>none</td>\n",
       "      <td>we dont have comfort</td>\n",
       "      <td>9.0</td>\n",
       "      <td>...</td>\n",
       "      <td>1.0</td>\n",
       "      <td>1.0</td>\n",
       "      <td>1</td>\n",
       "      <td>1165.0</td>\n",
       "      <td>345</td>\n",
       "      <td>car racing</td>\n",
       "      <td>5</td>\n",
       "      <td>1</td>\n",
       "      <td>1315</td>\n",
       "      <td>187</td>\n",
       "    </tr>\n",
       "    <tr>\n",
       "      <th>1</th>\n",
       "      <td>3.654</td>\n",
       "      <td>1</td>\n",
       "      <td>1</td>\n",
       "      <td>610</td>\n",
       "      <td>3.0</td>\n",
       "      <td>420.0</td>\n",
       "      <td>2</td>\n",
       "      <td>chocolate, chips, ice cream</td>\n",
       "      <td>Stress, bored, anger</td>\n",
       "      <td>1.0</td>\n",
       "      <td>...</td>\n",
       "      <td>1.0</td>\n",
       "      <td>1.0</td>\n",
       "      <td>2</td>\n",
       "      <td>725.0</td>\n",
       "      <td>690</td>\n",
       "      <td>Basketball</td>\n",
       "      <td>4</td>\n",
       "      <td>2</td>\n",
       "      <td>900</td>\n",
       "      <td>155</td>\n",
       "    </tr>\n",
       "    <tr>\n",
       "      <th>2</th>\n",
       "      <td>3.3</td>\n",
       "      <td>1</td>\n",
       "      <td>1</td>\n",
       "      <td>720</td>\n",
       "      <td>4.0</td>\n",
       "      <td>420.0</td>\n",
       "      <td>2</td>\n",
       "      <td>frozen yogurt, pizza, fast food</td>\n",
       "      <td>stress, sadness</td>\n",
       "      <td>1.0</td>\n",
       "      <td>...</td>\n",
       "      <td>1.0</td>\n",
       "      <td>2.0</td>\n",
       "      <td>5</td>\n",
       "      <td>1165.0</td>\n",
       "      <td>500</td>\n",
       "      <td>none</td>\n",
       "      <td>5</td>\n",
       "      <td>1</td>\n",
       "      <td>900</td>\n",
       "      <td>I'm not answering this.</td>\n",
       "    </tr>\n",
       "    <tr>\n",
       "      <th>3</th>\n",
       "      <td>3.2</td>\n",
       "      <td>1</td>\n",
       "      <td>1</td>\n",
       "      <td>430</td>\n",
       "      <td>3.0</td>\n",
       "      <td>420.0</td>\n",
       "      <td>2</td>\n",
       "      <td>Pizza, Mac and cheese, ice cream</td>\n",
       "      <td>Boredom</td>\n",
       "      <td>2.0</td>\n",
       "      <td>...</td>\n",
       "      <td>1.0</td>\n",
       "      <td>2.0</td>\n",
       "      <td>5</td>\n",
       "      <td>725.0</td>\n",
       "      <td>690</td>\n",
       "      <td>NaN</td>\n",
       "      <td>3</td>\n",
       "      <td>1</td>\n",
       "      <td>1315</td>\n",
       "      <td>Not sure, 240</td>\n",
       "    </tr>\n",
       "    <tr>\n",
       "      <th>4</th>\n",
       "      <td>3.5</td>\n",
       "      <td>1</td>\n",
       "      <td>1</td>\n",
       "      <td>720</td>\n",
       "      <td>2.0</td>\n",
       "      <td>420.0</td>\n",
       "      <td>2</td>\n",
       "      <td>Ice cream, chocolate, chips</td>\n",
       "      <td>Stress, boredom, cravings</td>\n",
       "      <td>1.0</td>\n",
       "      <td>...</td>\n",
       "      <td>1.0</td>\n",
       "      <td>1.0</td>\n",
       "      <td>4</td>\n",
       "      <td>940.0</td>\n",
       "      <td>500</td>\n",
       "      <td>Softball</td>\n",
       "      <td>4</td>\n",
       "      <td>2</td>\n",
       "      <td>760</td>\n",
       "      <td>190</td>\n",
       "    </tr>\n",
       "  </tbody>\n",
       "</table>\n",
       "<p>5 rows × 61 columns</p>\n",
       "</div>"
      ],
      "text/plain": [
       "     GPA  Gender  breakfast  calories_chicken  calories_day  calories_scone  \\\n",
       "0    2.4       2          1               430           NaN           315.0   \n",
       "1  3.654       1          1               610           3.0           420.0   \n",
       "2    3.3       1          1               720           4.0           420.0   \n",
       "3    3.2       1          1               430           3.0           420.0   \n",
       "4    3.5       1          1               720           2.0           420.0   \n",
       "\n",
       "   coffee                      comfort_food        comfort_food_reasons  \\\n",
       "0       1                              none       we dont have comfort    \n",
       "1       2       chocolate, chips, ice cream        Stress, bored, anger   \n",
       "2       2   frozen yogurt, pizza, fast food             stress, sadness   \n",
       "3       2  Pizza, Mac and cheese, ice cream                     Boredom   \n",
       "4       2      Ice cream, chocolate, chips   Stress, boredom, cravings    \n",
       "\n",
       "   comfort_food_reasons_coded            ...             soup  sports  \\\n",
       "0                         9.0            ...              1.0     1.0   \n",
       "1                         1.0            ...              1.0     1.0   \n",
       "2                         1.0            ...              1.0     2.0   \n",
       "3                         2.0            ...              1.0     2.0   \n",
       "4                         1.0            ...              1.0     1.0   \n",
       "\n",
       "   thai_food tortilla_calories  turkey_calories  type_sports veggies_day  \\\n",
       "0          1            1165.0              345   car racing           5   \n",
       "1          2             725.0              690  Basketball            4   \n",
       "2          5            1165.0              500         none           5   \n",
       "3          5             725.0              690          NaN           3   \n",
       "4          4             940.0              500     Softball           4   \n",
       "\n",
       "   vitamins  waffle_calories                    weight  \n",
       "0         1             1315                       187  \n",
       "1         2              900                       155  \n",
       "2         1              900  I'm not answering this.   \n",
       "3         1             1315             Not sure, 240  \n",
       "4         2              760                       190  \n",
       "\n",
       "[5 rows x 61 columns]"
      ]
     },
     "execution_count": 280,
     "metadata": {},
     "output_type": "execute_result"
    }
   ],
   "source": [
    "college_food.head(5)"
   ]
  },
  {
   "cell_type": "markdown",
   "metadata": {},
   "source": [
    "There are 61 columns, for a variety of questions regarding students' food preferences and some basic personal information. A list of all the columns and an explanation of the meanings they contain is [here](https://github.com/bx320/Data_Bootcamp_Final_Project/blob/master/codebook_food.pdf). "
   ]
  },
  {
   "cell_type": "code",
   "execution_count": 281,
   "metadata": {},
   "outputs": [
    {
     "data": {
      "text/html": [
       "<div>\n",
       "<style scoped>\n",
       "    .dataframe tbody tr th:only-of-type {\n",
       "        vertical-align: middle;\n",
       "    }\n",
       "\n",
       "    .dataframe tbody tr th {\n",
       "        vertical-align: top;\n",
       "    }\n",
       "\n",
       "    .dataframe thead th {\n",
       "        text-align: right;\n",
       "    }\n",
       "</style>\n",
       "<table border=\"1\" class=\"dataframe\">\n",
       "  <thead>\n",
       "    <tr style=\"text-align: right;\">\n",
       "      <th></th>\n",
       "      <th>GPA</th>\n",
       "      <th>Gender</th>\n",
       "      <th>income</th>\n",
       "      <th>fruit_day</th>\n",
       "      <th>vitamins</th>\n",
       "      <th>veggies_day</th>\n",
       "    </tr>\n",
       "  </thead>\n",
       "  <tbody>\n",
       "    <tr>\n",
       "      <th>0</th>\n",
       "      <td>2.4</td>\n",
       "      <td>2</td>\n",
       "      <td>5.0</td>\n",
       "      <td>5</td>\n",
       "      <td>1</td>\n",
       "      <td>5</td>\n",
       "    </tr>\n",
       "    <tr>\n",
       "      <th>1</th>\n",
       "      <td>3.654</td>\n",
       "      <td>1</td>\n",
       "      <td>4.0</td>\n",
       "      <td>4</td>\n",
       "      <td>2</td>\n",
       "      <td>4</td>\n",
       "    </tr>\n",
       "    <tr>\n",
       "      <th>2</th>\n",
       "      <td>3.3</td>\n",
       "      <td>1</td>\n",
       "      <td>6.0</td>\n",
       "      <td>5</td>\n",
       "      <td>1</td>\n",
       "      <td>5</td>\n",
       "    </tr>\n",
       "    <tr>\n",
       "      <th>3</th>\n",
       "      <td>3.2</td>\n",
       "      <td>1</td>\n",
       "      <td>6.0</td>\n",
       "      <td>4</td>\n",
       "      <td>1</td>\n",
       "      <td>3</td>\n",
       "    </tr>\n",
       "    <tr>\n",
       "      <th>4</th>\n",
       "      <td>3.5</td>\n",
       "      <td>1</td>\n",
       "      <td>6.0</td>\n",
       "      <td>4</td>\n",
       "      <td>2</td>\n",
       "      <td>4</td>\n",
       "    </tr>\n",
       "    <tr>\n",
       "      <th>5</th>\n",
       "      <td>2.25</td>\n",
       "      <td>1</td>\n",
       "      <td>1.0</td>\n",
       "      <td>2</td>\n",
       "      <td>2</td>\n",
       "      <td>1</td>\n",
       "    </tr>\n",
       "    <tr>\n",
       "      <th>6</th>\n",
       "      <td>3.8</td>\n",
       "      <td>2</td>\n",
       "      <td>4.0</td>\n",
       "      <td>4</td>\n",
       "      <td>1</td>\n",
       "      <td>4</td>\n",
       "    </tr>\n",
       "    <tr>\n",
       "      <th>7</th>\n",
       "      <td>3.3</td>\n",
       "      <td>1</td>\n",
       "      <td>5.0</td>\n",
       "      <td>5</td>\n",
       "      <td>2</td>\n",
       "      <td>4</td>\n",
       "    </tr>\n",
       "    <tr>\n",
       "      <th>8</th>\n",
       "      <td>3.3</td>\n",
       "      <td>1</td>\n",
       "      <td>5.0</td>\n",
       "      <td>4</td>\n",
       "      <td>2</td>\n",
       "      <td>3</td>\n",
       "    </tr>\n",
       "    <tr>\n",
       "      <th>9</th>\n",
       "      <td>3.3</td>\n",
       "      <td>1</td>\n",
       "      <td>4.0</td>\n",
       "      <td>5</td>\n",
       "      <td>1</td>\n",
       "      <td>5</td>\n",
       "    </tr>\n",
       "  </tbody>\n",
       "</table>\n",
       "</div>"
      ],
      "text/plain": [
       "     GPA  Gender  income  fruit_day  vitamins  veggies_day\n",
       "0    2.4       2     5.0          5         1            5\n",
       "1  3.654       1     4.0          4         2            4\n",
       "2    3.3       1     6.0          5         1            5\n",
       "3    3.2       1     6.0          4         1            3\n",
       "4    3.5       1     6.0          4         2            4\n",
       "5   2.25       1     1.0          2         2            1\n",
       "6    3.8       2     4.0          4         1            4\n",
       "7    3.3       1     5.0          5         2            4\n",
       "8    3.3       1     5.0          4         2            3\n",
       "9    3.3       1     4.0          5         1            5"
      ]
     },
     "execution_count": 281,
     "metadata": {},
     "output_type": "execute_result"
    }
   ],
   "source": [
    "college_food1 = college_food[[\"GPA\",\"Gender\",\"income\", \"fruit_day\", \"vitamins\", \"veggies_day\"]]\n",
    "college_food1.head(10)\n"
   ]
  },
  {
   "cell_type": "markdown",
   "metadata": {},
   "source": [
    "For clarity, I have highlighted the six columns that I will be using for this project in the dataframe above. \n",
    "\n",
    "GPA is the students' self-reported GPA.\n",
    "\n",
    "Gender is a 1 if female and 2 if male. \n",
    "\n",
    "Income is ranked on a scale of 1-6, with 1 being in the lowest bracket and 6 in the highest bracket. \n",
    "\n",
    "fruit_day is the students' self-reported scale of how likely they are to eat fruit on a regular day, with 1 being the lowest and 5 being the highest. \n",
    "\n",
    "veggies_day asks the same question, except with vegetables. \n",
    "\n",
    "Vitamins asks if students take vitamins regularly: 1 is for yes and 2 is for no.\n",
    "\n",
    "***"
   ]
  },
  {
   "cell_type": "markdown",
   "metadata": {},
   "source": [
    "**This next section is some cleanup of the dataset. **"
   ]
  },
  {
   "cell_type": "code",
   "execution_count": 284,
   "metadata": {
    "collapsed": true
   },
   "outputs": [],
   "source": [
    "adverse = adverse[pd.notnull(adverse[\"Outcome\"])] #this drops rows where there's nothing under the Outcome column\n",
    "adverse = adverse[pd.notnull(adverse[\"Symptoms\"])] #this drops rows where there's nothing under the Symptoms column"
   ]
  },
  {
   "cell_type": "code",
   "execution_count": 285,
   "metadata": {
    "collapsed": true
   },
   "outputs": [],
   "source": [
    "#college_food.dtypes\n",
    "college_food.dropna(subset=[\"GPA\"], axis = 0 , inplace= True) \n",
    "#There are some no-responses from students when asked for their GPA. We'll drop those rows first."
   ]
  },
  {
   "cell_type": "code",
   "execution_count": 286,
   "metadata": {
    "collapsed": true
   },
   "outputs": [],
   "source": [
    "college_food.GPA = [x.strip(\" abcdefghijklmnopqrstuvwxyzABCDEFGHIJKLMNOPQRSTUVWXYZ\") for x in college_food.GPA]\n",
    "#this takes out entries under the GPA column that aren't their GPA. Some people put \"Unknown\" or \"Personal\"\n",
    "#another student put a comment after their GPA, so that should be removed as well\n",
    "\n",
    "college_food['GPA'].replace('', np.nan, inplace=True)\n",
    "#replace the now empty GPA entries with NaN...\n",
    "\n",
    "college_food.dropna(subset=[\"GPA\"], axis = 0 , inplace= True)\n",
    "#...so that the entire row can be dropped\n",
    "\n",
    "college_food[\"GPA\"]=college_food[\"GPA\"].astype(float)\n",
    "#convert the GPA column from object to float, so we can compare students by GPA\n",
    "\n"
   ]
  },
  {
   "cell_type": "markdown",
   "metadata": {},
   "source": [
    "## Serious adverse food-related events\n",
    "Next we return to the FDA's adverse food events dataset. I made a new dataframe that only took rows if \"death\" was under Outcome column. I had to use str.match(), because groupby() wasn't an option because each entry is one string, and sometimes patients visited an ER or healthcare provider before death."
   ]
  },
  {
   "cell_type": "code",
   "execution_count": 287,
   "metadata": {},
   "outputs": [
    {
     "data": {
      "text/html": [
       "<div>\n",
       "<style scoped>\n",
       "    .dataframe tbody tr th:only-of-type {\n",
       "        vertical-align: middle;\n",
       "    }\n",
       "\n",
       "    .dataframe tbody tr th {\n",
       "        vertical-align: top;\n",
       "    }\n",
       "\n",
       "    .dataframe thead th {\n",
       "        text-align: right;\n",
       "    }\n",
       "</style>\n",
       "<table border=\"1\" class=\"dataframe\">\n",
       "  <thead>\n",
       "    <tr style=\"text-align: right;\">\n",
       "      <th></th>\n",
       "      <th>Event_Start_Date</th>\n",
       "      <th>Product_Name</th>\n",
       "      <th>Industry_Name</th>\n",
       "      <th>Consumer_Age</th>\n",
       "      <th>Units_of_Age</th>\n",
       "      <th>Gender</th>\n",
       "      <th>Outcome</th>\n",
       "      <th>Symptoms</th>\n",
       "    </tr>\n",
       "    <tr>\n",
       "      <th>Report_ID</th>\n",
       "      <th></th>\n",
       "      <th></th>\n",
       "      <th></th>\n",
       "      <th></th>\n",
       "      <th></th>\n",
       "      <th></th>\n",
       "      <th></th>\n",
       "      <th></th>\n",
       "    </tr>\n",
       "  </thead>\n",
       "  <tbody>\n",
       "    <tr>\n",
       "      <th>65350</th>\n",
       "      <td>NaN</td>\n",
       "      <td>GRAPE</td>\n",
       "      <td>Fruit/Fruit Prod</td>\n",
       "      <td>NaN</td>\n",
       "      <td>Not Available</td>\n",
       "      <td>Not Available</td>\n",
       "      <td>DEATH</td>\n",
       "      <td>DEATH, CHOKING</td>\n",
       "    </tr>\n",
       "    <tr>\n",
       "      <th>65399</th>\n",
       "      <td>11/22/2003</td>\n",
       "      <td>METOBOLITE 356</td>\n",
       "      <td>Vit/Min/Prot/Unconv Diet(Human/Animal)</td>\n",
       "      <td>51.0</td>\n",
       "      <td>Year(s)</td>\n",
       "      <td>Male</td>\n",
       "      <td>DEATH</td>\n",
       "      <td>COMPLETED SUICIDE, STRESS SYMPTOMS, DEATH</td>\n",
       "    </tr>\n",
       "    <tr>\n",
       "      <th>65400</th>\n",
       "      <td>9/5/2001</td>\n",
       "      <td>METABOLIFE</td>\n",
       "      <td>Vit/Min/Prot/Unconv Diet(Human/Animal)</td>\n",
       "      <td>45.0</td>\n",
       "      <td>Year(s)</td>\n",
       "      <td>Female</td>\n",
       "      <td>DEATH</td>\n",
       "      <td>DEATH, MITRAL VALVE INCOMPETENCE</td>\n",
       "    </tr>\n",
       "    <tr>\n",
       "      <th>65440</th>\n",
       "      <td>10/28/2003</td>\n",
       "      <td>HERBS FOR LIFE GHR-GOLDALL NATURAL GROWTH HORM...</td>\n",
       "      <td>Vit/Min/Prot/Unconv Diet(Human/Animal)</td>\n",
       "      <td>73.0</td>\n",
       "      <td>Year(s)</td>\n",
       "      <td>Male</td>\n",
       "      <td>DEATH, VISITED A HEALTH CARE PROVIDER, LIFE TH...</td>\n",
       "      <td>CREUTZFELDT-JAKOB DISEASE, HOSPITALISATION, DEATH</td>\n",
       "    </tr>\n",
       "    <tr>\n",
       "      <th>67305</th>\n",
       "      <td>2/18/2004</td>\n",
       "      <td>STACKER 2</td>\n",
       "      <td>Vit/Min/Prot/Unconv Diet(Human/Animal)</td>\n",
       "      <td>20.0</td>\n",
       "      <td>Year(s)</td>\n",
       "      <td>Male</td>\n",
       "      <td>DEATH</td>\n",
       "      <td>DEATH</td>\n",
       "    </tr>\n",
       "  </tbody>\n",
       "</table>\n",
       "</div>"
      ],
      "text/plain": [
       "          Event_Start_Date                                       Product_Name  \\\n",
       "Report_ID                                                                       \n",
       "65350                  NaN                                              GRAPE   \n",
       "65399           11/22/2003                                     METOBOLITE 356   \n",
       "65400             9/5/2001                                         METABOLIFE   \n",
       "65440           10/28/2003  HERBS FOR LIFE GHR-GOLDALL NATURAL GROWTH HORM...   \n",
       "67305            2/18/2004                                          STACKER 2   \n",
       "\n",
       "                                    Industry_Name  Consumer_Age  \\\n",
       "Report_ID                                                         \n",
       "65350                            Fruit/Fruit Prod           NaN   \n",
       "65399      Vit/Min/Prot/Unconv Diet(Human/Animal)          51.0   \n",
       "65400      Vit/Min/Prot/Unconv Diet(Human/Animal)          45.0   \n",
       "65440      Vit/Min/Prot/Unconv Diet(Human/Animal)          73.0   \n",
       "67305      Vit/Min/Prot/Unconv Diet(Human/Animal)          20.0   \n",
       "\n",
       "            Units_of_Age         Gender  \\\n",
       "Report_ID                                 \n",
       "65350      Not Available  Not Available   \n",
       "65399            Year(s)           Male   \n",
       "65400            Year(s)         Female   \n",
       "65440            Year(s)           Male   \n",
       "67305            Year(s)           Male   \n",
       "\n",
       "                                                     Outcome  \\\n",
       "Report_ID                                                      \n",
       "65350                                                  DEATH   \n",
       "65399                                                  DEATH   \n",
       "65400                                                  DEATH   \n",
       "65440      DEATH, VISITED A HEALTH CARE PROVIDER, LIFE TH...   \n",
       "67305                                                  DEATH   \n",
       "\n",
       "                                                    Symptoms  \n",
       "Report_ID                                                     \n",
       "65350                                         DEATH, CHOKING  \n",
       "65399              COMPLETED SUICIDE, STRESS SYMPTOMS, DEATH  \n",
       "65400                       DEATH, MITRAL VALVE INCOMPETENCE  \n",
       "65440      CREUTZFELDT-JAKOB DISEASE, HOSPITALISATION, DEATH  \n",
       "67305                                                  DEATH  "
      ]
     },
     "execution_count": 287,
     "metadata": {},
     "output_type": "execute_result"
    }
   ],
   "source": [
    "deaths = adverse[adverse[\"Outcome\"].str.match('DEATH')] #making the new dataframe\n",
    "\n",
    "deaths.head()"
   ]
  },
  {
   "cell_type": "code",
   "execution_count": 288,
   "metadata": {},
   "outputs": [
    {
     "data": {
      "image/png": "[encoded data removed]",
      "text/plain": [
       "<matplotlib.figure.Figure at 0x1db36044630>"
      ]
     },
     "metadata": {},
     "output_type": "display_data"
    }
   ],
   "source": [
    "# Pie chart, where the slices will be ordered and plotted counter-clockwise:\n",
    "labels = \"Incidences that resulted in death\", \"Incidences that did not result in death\"\n",
    "sizes = deaths.shape[0], adverse.shape[0]-deaths.shape[0]\n",
    "explode = (0, 0.1) \n",
    "\n",
    "#fig1, ax1 = plt.subplots()\n",
    "plt.title(\"Adverse food-related events outcome\")\n",
    "plt.pie(sizes, explode=explode, labels=labels, autopct='%1.1f%%',\n",
    "        shadow=True, startangle=180, colors = (\"black\", \"beige\"), pctdistance=1.2, labeldistance=1.5)\n",
    "plt.axis('equal')  # Equal aspect ratio ensures that pie is drawn as a circle.\n",
    "\n",
    "\n",
    "plt.show()"
   ]
  },
  {
   "cell_type": "markdown",
   "metadata": {},
   "source": [
    "Out of 90,781 entries in the adverse food events dataset, 1,284 resulted in death, which is about 1.4%."
   ]
  },
  {
   "cell_type": "markdown",
   "metadata": {
    "collapsed": true
   },
   "source": [
    "Next we want to take a look at what is causing most of those deaths, because we need to match it to the eating habits of college students. A huge majority of causes of death is in cosmetics and Vit/Min/Prot/Unconv Diet(Human/Animal). \n",
    "\n",
    "Vit/Min/Prot/Unconv Diet(Human/Animal) refers mostly to vitamins and dietary supplements. There is no standout brand or product causing those, and each specific product name is mostly responsible for less than 4 out of over 500 vitamin/supplement related deaths. If interested in seeing the brand names, please uncomment the cell directly below this one.\n",
    "\n",
    "Cosmetics were disregarded for two reasons: college students don't eat those on purpose and they were not included in the survey, and almost all of the brand names were redacted, making it impossible to confirm what kind of cosmetics actually caused those events. If interested in seeing statistics about the names of the cosmetics, please uncomment the cell two below this one.\n"
   ]
  },
  {
   "cell_type": "code",
   "execution_count": 289,
   "metadata": {
    "collapsed": true
   },
   "outputs": [],
   "source": [
    "# showvitamins = deaths.loc[deaths[\"Industry_Name\"] == \"Vit/Min/Prot/Unconv Diet(Human/Animal)\"]\n",
    "# showvitamins.Product_Name.value_counts()"
   ]
  },
  {
   "cell_type": "code",
   "execution_count": 290,
   "metadata": {
    "collapsed": true
   },
   "outputs": [],
   "source": [
    "# showCosmetics = deaths.loc[deaths['Industry_Name'] == 'Cosmetics']\n",
    "# showCosmetics.Product_Name.value_counts()"
   ]
  },
  {
   "cell_type": "code",
   "execution_count": 291,
   "metadata": {},
   "outputs": [
    {
     "data": {
      "text/plain": [
       "Cosmetics                                 556\n",
       "Vit/Min/Prot/Unconv Diet(Human/Animal)    537\n",
       "Dietary Conv Food/Meal Replacements        57\n",
       "Fishery/Seafood Prod                       39\n",
       "Baby Food Prod                             30\n",
       "Soft Drink/Water                           12\n",
       "Nuts/Edible Seed                           10\n",
       "Bakery Prod/Dough/Mix/Icing                10\n",
       "Vegetables/Vegetable Products               7\n",
       "Cheese/Cheese Prod                          5\n",
       "Food Additives (Human Use)                  3\n",
       "Fruit/Fruit Prod                            3\n",
       "Ice Cream Prod                              2\n",
       "Candy W/O Choc/Special/Chew Gum             2\n",
       "Milk/Butter/Dried Milk Prod                 2\n",
       "Food Sweeteners (Nutritive)                 2\n",
       "Coffee/Tea                                  1\n",
       "Vegetable Oils                              1\n",
       "Snack Food Item                             1\n",
       "Egg/Egg Prod                                1\n",
       "Mult Food Dinner/Grav/Sauce/Special         1\n",
       "Alcoholic Beverage                          1\n",
       "Spices, Flavors And Salts                   1\n",
       "Name: Industry_Name, dtype: int64"
      ]
     },
     "execution_count": 291,
     "metadata": {},
     "output_type": "execute_result"
    }
   ],
   "source": [
    "deaths.Industry_Name.value_counts()\n",
    "#this shows items that caused death, grouped by industry"
   ]
  },
  {
   "cell_type": "markdown",
   "metadata": {},
   "source": [
    "See the pie chart below for the breakdown of causes of death. "
   ]
  },
  {
   "cell_type": "code",
   "execution_count": 292,
   "metadata": {},
   "outputs": [
    {
     "data": {
      "image/png": "[encoded data removed]",
      "text/plain": [
       "<matplotlib.figure.Figure at 0x1db34679c18>"
      ]
     },
     "metadata": {},
     "output_type": "display_data"
    }
   ],
   "source": [
    "deathcounts = deaths.Industry_Name.value_counts().to_frame()\n",
    "\n",
    "labels = \"Cosmetics\", \"Vitamins/Supplements\",\"Other\"\n",
    "sizes = [deathcounts.Industry_Name[0], deathcounts.Industry_Name[1], \n",
    "         deaths.shape[0] - (deathcounts.Industry_Name[0] + deathcounts.Industry_Name[1])]\n",
    "explode = (0, 0.1, 0 ) \n",
    "\n",
    "#fig1, ax1 = plt.subplots()\n",
    "plt.title(\"Causes of Food-related Death\")\n",
    "plt.pie(sizes, explode=explode, labels=labels, autopct='%1.1f%%',\n",
    "        shadow=True, startangle=90, colors = (\"linen\", \"skyblue\",\"lavender\"))\n",
    "plt.axis('equal')  # Equal aspect ratio ensures that pie is drawn as a circle.\n",
    "\n",
    "plt.show()\n"
   ]
  },
  {
   "cell_type": "markdown",
   "metadata": {
    "collapsed": true
   },
   "source": [
    "1.4% of all adverse food events resulted in death. Of that 1.4%, 41.8% of them were caused by some sort of vitamin or dietary supplement. I then became curious: within college students, are there certain factors that may cause them to have a high exposure to vitamin-related deaths? \n",
    "\n",
    "Coincidentally, there was a question on the college students' survey that asked about vitamin intake, although it was only a 1 if they take vitamins or supplements, and a 2 if they do not. Still, this information is usable. \n",
    "\n",
    "However, the notation used in the original dataset is confusing. A more intuitive way to express it would be a 1 if they take vitamins, and a 0 if they do not."
   ]
  },
  {
   "cell_type": "code",
   "execution_count": 293,
   "metadata": {},
   "outputs": [
    {
     "data": {
      "text/plain": [
       "2    63\n",
       "1    58\n",
       "Name: vitamins, dtype: int64"
      ]
     },
     "execution_count": 293,
     "metadata": {},
     "output_type": "execute_result"
    }
   ],
   "source": [
    "college_food.vitamins.value_counts()\n",
    "#Pretty even split on vitamins/no vitamins\n",
    "#1 means they take vitamins, 2 means they don't. \n"
   ]
  },
  {
   "cell_type": "code",
   "execution_count": 294,
   "metadata": {
    "collapsed": true
   },
   "outputs": [],
   "source": [
    "overall_vitamins = 58/(58+63)"
   ]
  },
  {
   "cell_type": "code",
   "execution_count": 295,
   "metadata": {
    "collapsed": true
   },
   "outputs": [],
   "source": [
    "college_food[\"vitamins\"] = college_food[\"vitamins\"]*(-1) + 2\n",
    "#change the 2, meaning they don't take vitamins, to a 0, and keep the 1 as 1.\n",
    "#don't run this cell more than once. \n",
    "\n",
    "#Important: if at any point a pie chart \n",
    "    #returns a negative % or otherwise doesn't look like a regular pie chart,\n",
    "    #run this cell again."
   ]
  },
  {
   "cell_type": "code",
   "execution_count": 296,
   "metadata": {},
   "outputs": [
    {
     "data": {
      "text/plain": [
       "0    63\n",
       "1    58\n",
       "Name: vitamins, dtype: int64"
      ]
     },
     "execution_count": 296,
     "metadata": {},
     "output_type": "execute_result"
    }
   ],
   "source": [
    "college_food.vitamins.value_counts()\n",
    "#We've confirmed that changing the notation doesn't accidentally change the data"
   ]
  },
  {
   "cell_type": "code",
   "execution_count": 297,
   "metadata": {},
   "outputs": [
    {
     "data": {
      "image/png": "[encoded data removed]",
      "text/plain": [
       "<matplotlib.figure.Figure at 0x1db34252898>"
      ]
     },
     "metadata": {},
     "output_type": "display_data"
    }
   ],
   "source": [
    "labels = \"Vitamin Takers\", \"Not Vitamin Takers\"\n",
    "sizes = [overall_vitamins, 1 - overall_vitamins]\n",
    "explode = (0, 0.1 ) \n",
    "\n",
    "plt.title(\"% of College Students Taking Vitamins/Supplements\")\n",
    "plt.pie(sizes, explode=explode, labels=labels, autopct='%1.1f%%',\n",
    "        shadow=True, startangle=90, colors = (\"goldenrod\", \"indianred\"))\n",
    "plt.axis('equal')  # Equal aspect ratio ensures that pie is drawn as a circle.\n",
    "\n",
    "plt.show()"
   ]
  },
  {
   "cell_type": "markdown",
   "metadata": {},
   "source": [
    "This chart shows the percentage of all students surveyed who said they take vitamins/supplments. There is an almost even split, with slightly more people not taking vitamins.\n",
    "\n",
    "\n",
    "***"
   ]
  },
  {
   "cell_type": "markdown",
   "metadata": {},
   "source": [
    "We will now separate students by 3 charcateristics: GPA, income, and gender. First is GPA. \n",
    "\n",
    "Let's look at students who have a GPA above or below the mean."
   ]
  },
  {
   "cell_type": "code",
   "execution_count": 298,
   "metadata": {},
   "outputs": [
    {
     "data": {
      "text/plain": [
       "3.418652892561982"
      ]
     },
     "execution_count": 298,
     "metadata": {},
     "output_type": "execute_result"
    }
   ],
   "source": [
    "college_food[\"GPA\"].mean()\n"
   ]
  },
  {
   "cell_type": "code",
   "execution_count": 300,
   "metadata": {
    "collapsed": true
   },
   "outputs": [],
   "source": [
    "highGPA= college_food[college_food[\"GPA\"] >= 3.41865] \n",
    "#we will consider students with high GPA to be ones above the mean"
   ]
  },
  {
   "cell_type": "code",
   "execution_count": 301,
   "metadata": {},
   "outputs": [
    {
     "data": {
      "text/plain": [
       "0    34\n",
       "1    30\n",
       "Name: vitamins, dtype: int64"
      ]
     },
     "execution_count": 301,
     "metadata": {},
     "output_type": "execute_result"
    }
   ],
   "source": [
    "highGPA.vitamins.value_counts()"
   ]
  },
  {
   "cell_type": "code",
   "execution_count": 302,
   "metadata": {},
   "outputs": [
    {
     "data": {
      "text/plain": [
       "0.46875"
      ]
     },
     "execution_count": 302,
     "metadata": {},
     "output_type": "execute_result"
    }
   ],
   "source": [
    "highGPA_vitamins = 30/(34+30)\n",
    "highGPA_vitamins\n",
    "#46% of students with high GPAs take vitamins"
   ]
  },
  {
   "cell_type": "code",
   "execution_count": 303,
   "metadata": {
    "collapsed": true
   },
   "outputs": [],
   "source": [
    "lowGPA = college_food[college_food[\"GPA\"] < 3.41865]\n",
    "#we will consider students with low GPA to be ones below the mean"
   ]
  },
  {
   "cell_type": "code",
   "execution_count": 304,
   "metadata": {},
   "outputs": [
    {
     "data": {
      "text/plain": [
       "0    29\n",
       "1    28\n",
       "Name: vitamins, dtype: int64"
      ]
     },
     "execution_count": 304,
     "metadata": {},
     "output_type": "execute_result"
    }
   ],
   "source": [
    "lowGPA.vitamins.value_counts()"
   ]
  },
  {
   "cell_type": "code",
   "execution_count": 305,
   "metadata": {},
   "outputs": [
    {
     "data": {
      "text/plain": [
       "0.49122807017543857"
      ]
     },
     "execution_count": 305,
     "metadata": {},
     "output_type": "execute_result"
    }
   ],
   "source": [
    "lowGPA_vitamins = 28/(28+29)\n",
    "lowGPA_vitamins\n",
    "#49% of low GPA students take vitamins\n",
    "#they are more likely to experience death"
   ]
  },
  {
   "cell_type": "code",
   "execution_count": 306,
   "metadata": {},
   "outputs": [
    {
     "data": {
      "image/png": "[encoded data removed]",
      "text/plain": [
       "<matplotlib.figure.Figure at 0x1db343040f0>"
      ]
     },
     "metadata": {},
     "output_type": "display_data"
    }
   ],
   "source": [
    "#Pie chart showing low/high GPA students\n",
    "fig, ax = plt.subplots(nrows = 1, ncols = 2, figsize = (12,4)) \n",
    "from matplotlib.gridspec import GridSpec\n",
    "\n",
    "grid = GridSpec(1,2)\n",
    "\n",
    "labels = \"Take Vitamins\", \"Doesn't Take Vitamins\"\n",
    "sizes = [lowGPA_vitamins, 1 - lowGPA_vitamins]\n",
    "explode = (0, 0.1) #make the second slice pop out\n",
    "\n",
    "\n",
    "plt.subplot(grid[0, 0], aspect=1)\n",
    "plt.title(\"GPA greater than 3.4186\")\n",
    "plt.pie(sizes, explode=explode, labels=labels, autopct='%1.1f%%',\n",
    "        shadow=True, startangle=90, colors = (\"lightgrey\",\"cornsilk\"))\n",
    "\n",
    "plt.axis('equal')  \n",
    "\n",
    "#######################################################################################\n",
    "labels = \"Take Vitamins\", \"Doesn't Take Vitamins\"\n",
    "sizes = [highGPA_vitamins, 1 - highGPA_vitamins]\n",
    "explode = (0, 0.1)  \n",
    "\n",
    "\n",
    "plt.subplot(grid[0, 1], aspect=1)\n",
    "plt.pie(sizes, explode=explode, labels=labels, autopct='%1.1f%%',\n",
    "        shadow=True, startangle=90,colors = (\"lightgrey\",\"cornsilk\"))\n",
    "plt.title(\"GPA less than or equal to 3.4186\")\n",
    "plt.axis('equal')  \n",
    "plt.tight_layout(w_pad = 20)\n",
    "\n",
    "fig.suptitle(\"Vitamin Intake by GPA\", fontsize = 14, fontweight = \"bold\")\n",
    "\n",
    "\n",
    "\n",
    "plt.show()"
   ]
  },
  {
   "cell_type": "markdown",
   "metadata": {
    "collapsed": true
   },
   "source": [
    "I found the mean GPA of students, which was 3.4186. I then checked to see if students who have a GPA above or the below mean take more vitamins. It turns out that students with higher GPA's tend to take more vitamins, which, according to the adverse foods events dataset, puts them at higher risk of experiencing death than students with lower GPA. "
   ]
  },
  {
   "cell_type": "markdown",
   "metadata": {},
   "source": [
    "Next, we will separate students based on gender."
   ]
  },
  {
   "cell_type": "code",
   "execution_count": 307,
   "metadata": {},
   "outputs": [
    {
     "data": {
      "text/html": [
       "<div>\n",
       "<style scoped>\n",
       "    .dataframe tbody tr th:only-of-type {\n",
       "        vertical-align: middle;\n",
       "    }\n",
       "\n",
       "    .dataframe tbody tr th {\n",
       "        vertical-align: top;\n",
       "    }\n",
       "\n",
       "    .dataframe thead th {\n",
       "        text-align: right;\n",
       "    }\n",
       "</style>\n",
       "<table border=\"1\" class=\"dataframe\">\n",
       "  <thead>\n",
       "    <tr style=\"text-align: right;\">\n",
       "      <th></th>\n",
       "      <th>GPA</th>\n",
       "      <th>Gender</th>\n",
       "      <th>breakfast</th>\n",
       "      <th>calories_chicken</th>\n",
       "      <th>calories_day</th>\n",
       "      <th>calories_scone</th>\n",
       "      <th>coffee</th>\n",
       "      <th>comfort_food</th>\n",
       "      <th>comfort_food_reasons</th>\n",
       "      <th>comfort_food_reasons_coded</th>\n",
       "      <th>...</th>\n",
       "      <th>soup</th>\n",
       "      <th>sports</th>\n",
       "      <th>thai_food</th>\n",
       "      <th>tortilla_calories</th>\n",
       "      <th>turkey_calories</th>\n",
       "      <th>type_sports</th>\n",
       "      <th>veggies_day</th>\n",
       "      <th>vitamins</th>\n",
       "      <th>waffle_calories</th>\n",
       "      <th>weight</th>\n",
       "    </tr>\n",
       "  </thead>\n",
       "  <tbody>\n",
       "    <tr>\n",
       "      <th>0</th>\n",
       "      <td>2.4</td>\n",
       "      <td>2</td>\n",
       "      <td>1</td>\n",
       "      <td>430</td>\n",
       "      <td>NaN</td>\n",
       "      <td>315.0</td>\n",
       "      <td>1</td>\n",
       "      <td>none</td>\n",
       "      <td>we dont have comfort</td>\n",
       "      <td>9.0</td>\n",
       "      <td>...</td>\n",
       "      <td>1.0</td>\n",
       "      <td>1.0</td>\n",
       "      <td>1</td>\n",
       "      <td>1165.0</td>\n",
       "      <td>345</td>\n",
       "      <td>car racing</td>\n",
       "      <td>5</td>\n",
       "      <td>1</td>\n",
       "      <td>1315</td>\n",
       "      <td>187</td>\n",
       "    </tr>\n",
       "    <tr>\n",
       "      <th>6</th>\n",
       "      <td>3.8</td>\n",
       "      <td>2</td>\n",
       "      <td>1</td>\n",
       "      <td>610</td>\n",
       "      <td>3.0</td>\n",
       "      <td>420.0</td>\n",
       "      <td>2</td>\n",
       "      <td>Chocolate, ice cream, french fries, pretzels</td>\n",
       "      <td>stress, boredom</td>\n",
       "      <td>1.0</td>\n",
       "      <td>...</td>\n",
       "      <td>1.0</td>\n",
       "      <td>1.0</td>\n",
       "      <td>5</td>\n",
       "      <td>940.0</td>\n",
       "      <td>690</td>\n",
       "      <td>soccer</td>\n",
       "      <td>4</td>\n",
       "      <td>1</td>\n",
       "      <td>1315</td>\n",
       "      <td>180</td>\n",
       "    </tr>\n",
       "    <tr>\n",
       "      <th>12</th>\n",
       "      <td>3.4</td>\n",
       "      <td>2</td>\n",
       "      <td>1</td>\n",
       "      <td>430</td>\n",
       "      <td>3.0</td>\n",
       "      <td>420.0</td>\n",
       "      <td>2</td>\n",
       "      <td>Cookies, popcorn, and chips</td>\n",
       "      <td>Sadness, boredom, late night snack</td>\n",
       "      <td>3.0</td>\n",
       "      <td>...</td>\n",
       "      <td>2.0</td>\n",
       "      <td>1.0</td>\n",
       "      <td>3</td>\n",
       "      <td>940.0</td>\n",
       "      <td>500</td>\n",
       "      <td>Soccer and basketball</td>\n",
       "      <td>3</td>\n",
       "      <td>0</td>\n",
       "      <td>575</td>\n",
       "      <td>264</td>\n",
       "    </tr>\n",
       "    <tr>\n",
       "      <th>14</th>\n",
       "      <td>3.1</td>\n",
       "      <td>2</td>\n",
       "      <td>1</td>\n",
       "      <td>610</td>\n",
       "      <td>3.0</td>\n",
       "      <td>420.0</td>\n",
       "      <td>2</td>\n",
       "      <td>Pizza, fruit, spaghetti, chicken and Potatoes</td>\n",
       "      <td>Friends, environment and boredom</td>\n",
       "      <td>2.0</td>\n",
       "      <td>...</td>\n",
       "      <td>1.0</td>\n",
       "      <td>1.0</td>\n",
       "      <td>4</td>\n",
       "      <td>940.0</td>\n",
       "      <td>500</td>\n",
       "      <td>Hockey</td>\n",
       "      <td>5</td>\n",
       "      <td>1</td>\n",
       "      <td>900</td>\n",
       "      <td>185</td>\n",
       "    </tr>\n",
       "    <tr>\n",
       "      <th>17</th>\n",
       "      <td>3.6</td>\n",
       "      <td>2</td>\n",
       "      <td>1</td>\n",
       "      <td>430</td>\n",
       "      <td>3.0</td>\n",
       "      <td>980.0</td>\n",
       "      <td>2</td>\n",
       "      <td>chips, cookies, ice cream</td>\n",
       "      <td>I usually only eat comfort food when I'm bored...</td>\n",
       "      <td>2.0</td>\n",
       "      <td>...</td>\n",
       "      <td>1.0</td>\n",
       "      <td>1.0</td>\n",
       "      <td>3</td>\n",
       "      <td>940.0</td>\n",
       "      <td>500</td>\n",
       "      <td>hockey</td>\n",
       "      <td>4</td>\n",
       "      <td>0</td>\n",
       "      <td>900</td>\n",
       "      <td>170</td>\n",
       "    </tr>\n",
       "  </tbody>\n",
       "</table>\n",
       "<p>5 rows × 61 columns</p>\n",
       "</div>"
      ],
      "text/plain": [
       "    GPA  Gender  breakfast  calories_chicken  calories_day  calories_scone  \\\n",
       "0   2.4       2          1               430           NaN           315.0   \n",
       "6   3.8       2          1               610           3.0           420.0   \n",
       "12  3.4       2          1               430           3.0           420.0   \n",
       "14  3.1       2          1               610           3.0           420.0   \n",
       "17  3.6       2          1               430           3.0           980.0   \n",
       "\n",
       "    coffee                                     comfort_food  \\\n",
       "0        1                                             none   \n",
       "6        2     Chocolate, ice cream, french fries, pretzels   \n",
       "12       2                      Cookies, popcorn, and chips   \n",
       "14       2  Pizza, fruit, spaghetti, chicken and Potatoes     \n",
       "17       2                        chips, cookies, ice cream   \n",
       "\n",
       "                                 comfort_food_reasons  \\\n",
       "0                               we dont have comfort    \n",
       "6                                     stress, boredom   \n",
       "12                Sadness, boredom, late night snack    \n",
       "14                   Friends, environment and boredom   \n",
       "17  I usually only eat comfort food when I'm bored...   \n",
       "\n",
       "    comfort_food_reasons_coded   ...    soup  sports  thai_food  \\\n",
       "0                          9.0   ...     1.0     1.0          1   \n",
       "6                          1.0   ...     1.0     1.0          5   \n",
       "12                         3.0   ...     2.0     1.0          3   \n",
       "14                         2.0   ...     1.0     1.0          4   \n",
       "17                         2.0   ...     1.0     1.0          3   \n",
       "\n",
       "   tortilla_calories  turkey_calories             type_sports veggies_day  \\\n",
       "0             1165.0              345              car racing           5   \n",
       "6              940.0              690                  soccer           4   \n",
       "12             940.0              500  Soccer and basketball            3   \n",
       "14             940.0              500                  Hockey           5   \n",
       "17             940.0              500                  hockey           4   \n",
       "\n",
       "    vitamins  waffle_calories  weight  \n",
       "0          1             1315     187  \n",
       "6          1             1315     180  \n",
       "12         0              575     264  \n",
       "14         1              900     185  \n",
       "17         0              900     170  \n",
       "\n",
       "[5 rows x 61 columns]"
      ]
     },
     "execution_count": 307,
     "metadata": {},
     "output_type": "execute_result"
    }
   ],
   "source": [
    "male = college_food[college_food[\"Gender\"] == 2]\n",
    "male.head(5)\n",
    "#making a new dataset. this one only contains entries from male students"
   ]
  },
  {
   "cell_type": "code",
   "execution_count": 309,
   "metadata": {},
   "outputs": [
    {
     "data": {
      "text/html": [
       "<div>\n",
       "<style scoped>\n",
       "    .dataframe tbody tr th:only-of-type {\n",
       "        vertical-align: middle;\n",
       "    }\n",
       "\n",
       "    .dataframe tbody tr th {\n",
       "        vertical-align: top;\n",
       "    }\n",
       "\n",
       "    .dataframe thead th {\n",
       "        text-align: right;\n",
       "    }\n",
       "</style>\n",
       "<table border=\"1\" class=\"dataframe\">\n",
       "  <thead>\n",
       "    <tr style=\"text-align: right;\">\n",
       "      <th></th>\n",
       "      <th>GPA</th>\n",
       "      <th>Gender</th>\n",
       "      <th>breakfast</th>\n",
       "      <th>calories_chicken</th>\n",
       "      <th>calories_day</th>\n",
       "      <th>calories_scone</th>\n",
       "      <th>coffee</th>\n",
       "      <th>comfort_food</th>\n",
       "      <th>comfort_food_reasons</th>\n",
       "      <th>comfort_food_reasons_coded</th>\n",
       "      <th>...</th>\n",
       "      <th>soup</th>\n",
       "      <th>sports</th>\n",
       "      <th>thai_food</th>\n",
       "      <th>tortilla_calories</th>\n",
       "      <th>turkey_calories</th>\n",
       "      <th>type_sports</th>\n",
       "      <th>veggies_day</th>\n",
       "      <th>vitamins</th>\n",
       "      <th>waffle_calories</th>\n",
       "      <th>weight</th>\n",
       "    </tr>\n",
       "  </thead>\n",
       "  <tbody>\n",
       "    <tr>\n",
       "      <th>1</th>\n",
       "      <td>3.654</td>\n",
       "      <td>1</td>\n",
       "      <td>1</td>\n",
       "      <td>610</td>\n",
       "      <td>3.0</td>\n",
       "      <td>420.0</td>\n",
       "      <td>2</td>\n",
       "      <td>chocolate, chips, ice cream</td>\n",
       "      <td>Stress, bored, anger</td>\n",
       "      <td>1.0</td>\n",
       "      <td>...</td>\n",
       "      <td>1.0</td>\n",
       "      <td>1.0</td>\n",
       "      <td>2</td>\n",
       "      <td>725.0</td>\n",
       "      <td>690</td>\n",
       "      <td>Basketball</td>\n",
       "      <td>4</td>\n",
       "      <td>0</td>\n",
       "      <td>900</td>\n",
       "      <td>155</td>\n",
       "    </tr>\n",
       "    <tr>\n",
       "      <th>2</th>\n",
       "      <td>3.300</td>\n",
       "      <td>1</td>\n",
       "      <td>1</td>\n",
       "      <td>720</td>\n",
       "      <td>4.0</td>\n",
       "      <td>420.0</td>\n",
       "      <td>2</td>\n",
       "      <td>frozen yogurt, pizza, fast food</td>\n",
       "      <td>stress, sadness</td>\n",
       "      <td>1.0</td>\n",
       "      <td>...</td>\n",
       "      <td>1.0</td>\n",
       "      <td>2.0</td>\n",
       "      <td>5</td>\n",
       "      <td>1165.0</td>\n",
       "      <td>500</td>\n",
       "      <td>none</td>\n",
       "      <td>5</td>\n",
       "      <td>1</td>\n",
       "      <td>900</td>\n",
       "      <td>I'm not answering this.</td>\n",
       "    </tr>\n",
       "    <tr>\n",
       "      <th>3</th>\n",
       "      <td>3.200</td>\n",
       "      <td>1</td>\n",
       "      <td>1</td>\n",
       "      <td>430</td>\n",
       "      <td>3.0</td>\n",
       "      <td>420.0</td>\n",
       "      <td>2</td>\n",
       "      <td>Pizza, Mac and cheese, ice cream</td>\n",
       "      <td>Boredom</td>\n",
       "      <td>2.0</td>\n",
       "      <td>...</td>\n",
       "      <td>1.0</td>\n",
       "      <td>2.0</td>\n",
       "      <td>5</td>\n",
       "      <td>725.0</td>\n",
       "      <td>690</td>\n",
       "      <td>NaN</td>\n",
       "      <td>3</td>\n",
       "      <td>1</td>\n",
       "      <td>1315</td>\n",
       "      <td>Not sure, 240</td>\n",
       "    </tr>\n",
       "    <tr>\n",
       "      <th>4</th>\n",
       "      <td>3.500</td>\n",
       "      <td>1</td>\n",
       "      <td>1</td>\n",
       "      <td>720</td>\n",
       "      <td>2.0</td>\n",
       "      <td>420.0</td>\n",
       "      <td>2</td>\n",
       "      <td>Ice cream, chocolate, chips</td>\n",
       "      <td>Stress, boredom, cravings</td>\n",
       "      <td>1.0</td>\n",
       "      <td>...</td>\n",
       "      <td>1.0</td>\n",
       "      <td>1.0</td>\n",
       "      <td>4</td>\n",
       "      <td>940.0</td>\n",
       "      <td>500</td>\n",
       "      <td>Softball</td>\n",
       "      <td>4</td>\n",
       "      <td>0</td>\n",
       "      <td>760</td>\n",
       "      <td>190</td>\n",
       "    </tr>\n",
       "    <tr>\n",
       "      <th>5</th>\n",
       "      <td>2.250</td>\n",
       "      <td>1</td>\n",
       "      <td>1</td>\n",
       "      <td>610</td>\n",
       "      <td>3.0</td>\n",
       "      <td>980.0</td>\n",
       "      <td>2</td>\n",
       "      <td>Candy, brownies and soda.</td>\n",
       "      <td>None, i don't eat comfort food. I just eat whe...</td>\n",
       "      <td>4.0</td>\n",
       "      <td>...</td>\n",
       "      <td>1.0</td>\n",
       "      <td>2.0</td>\n",
       "      <td>4</td>\n",
       "      <td>940.0</td>\n",
       "      <td>345</td>\n",
       "      <td>None.</td>\n",
       "      <td>1</td>\n",
       "      <td>0</td>\n",
       "      <td>1315</td>\n",
       "      <td>190</td>\n",
       "    </tr>\n",
       "  </tbody>\n",
       "</table>\n",
       "<p>5 rows × 61 columns</p>\n",
       "</div>"
      ],
      "text/plain": [
       "     GPA  Gender  breakfast  calories_chicken  calories_day  calories_scone  \\\n",
       "1  3.654       1          1               610           3.0           420.0   \n",
       "2  3.300       1          1               720           4.0           420.0   \n",
       "3  3.200       1          1               430           3.0           420.0   \n",
       "4  3.500       1          1               720           2.0           420.0   \n",
       "5  2.250       1          1               610           3.0           980.0   \n",
       "\n",
       "   coffee                      comfort_food  \\\n",
       "1       2       chocolate, chips, ice cream   \n",
       "2       2   frozen yogurt, pizza, fast food   \n",
       "3       2  Pizza, Mac and cheese, ice cream   \n",
       "4       2      Ice cream, chocolate, chips    \n",
       "5       2         Candy, brownies and soda.   \n",
       "\n",
       "                                comfort_food_reasons  \\\n",
       "1                               Stress, bored, anger   \n",
       "2                                    stress, sadness   \n",
       "3                                            Boredom   \n",
       "4                         Stress, boredom, cravings    \n",
       "5  None, i don't eat comfort food. I just eat whe...   \n",
       "\n",
       "   comfort_food_reasons_coded            ...             soup  sports  \\\n",
       "1                         1.0            ...              1.0     1.0   \n",
       "2                         1.0            ...              1.0     2.0   \n",
       "3                         2.0            ...              1.0     2.0   \n",
       "4                         1.0            ...              1.0     1.0   \n",
       "5                         4.0            ...              1.0     2.0   \n",
       "\n",
       "   thai_food tortilla_calories  turkey_calories  type_sports veggies_day  \\\n",
       "1          2             725.0              690  Basketball            4   \n",
       "2          5            1165.0              500         none           5   \n",
       "3          5             725.0              690          NaN           3   \n",
       "4          4             940.0              500     Softball           4   \n",
       "5          4             940.0              345        None.           1   \n",
       "\n",
       "   vitamins  waffle_calories                    weight  \n",
       "1         0              900                       155  \n",
       "2         1              900  I'm not answering this.   \n",
       "3         1             1315             Not sure, 240  \n",
       "4         0              760                       190  \n",
       "5         0             1315                       190  \n",
       "\n",
       "[5 rows x 61 columns]"
      ]
     },
     "execution_count": 309,
     "metadata": {},
     "output_type": "execute_result"
    }
   ],
   "source": [
    "female = college_food[college_food[\"Gender\"] ==1]\n",
    "female.head(5)\n",
    "#this one only contains entries from female students."
   ]
  },
  {
   "cell_type": "code",
   "execution_count": 310,
   "metadata": {},
   "outputs": [
    {
     "data": {
      "text/plain": [
       "1    25\n",
       "0    23\n",
       "Name: vitamins, dtype: int64"
      ]
     },
     "execution_count": 310,
     "metadata": {},
     "output_type": "execute_result"
    }
   ],
   "source": [
    "male.vitamins.value_counts()"
   ]
  },
  {
   "cell_type": "code",
   "execution_count": 311,
   "metadata": {},
   "outputs": [
    {
     "data": {
      "text/plain": [
       "0.5208333333333334"
      ]
     },
     "execution_count": 311,
     "metadata": {},
     "output_type": "execute_result"
    }
   ],
   "source": [
    "male_vitamins = 25/(25+23)\n",
    "male_vitamins\n",
    "#52% of male students take vitamins..."
   ]
  },
  {
   "cell_type": "code",
   "execution_count": 312,
   "metadata": {},
   "outputs": [
    {
     "data": {
      "text/plain": [
       "0    40\n",
       "1    33\n",
       "Name: vitamins, dtype: int64"
      ]
     },
     "execution_count": 312,
     "metadata": {},
     "output_type": "execute_result"
    }
   ],
   "source": [
    "female.vitamins.value_counts()"
   ]
  },
  {
   "cell_type": "code",
   "execution_count": 313,
   "metadata": {},
   "outputs": [
    {
     "data": {
      "text/plain": [
       "0.4520547945205479"
      ]
     },
     "execution_count": 313,
     "metadata": {},
     "output_type": "execute_result"
    }
   ],
   "source": [
    "female_vitamins = 33/(33+40)\n",
    "female_vitamins\n",
    "#...compared to 45% of female students who take vitamins"
   ]
  },
  {
   "cell_type": "code",
   "execution_count": 314,
   "metadata": {},
   "outputs": [
    {
     "data": {
      "image/png": "[encoded data removed]",
      "text/plain": [
       "<matplotlib.figure.Figure at 0x1db348392e8>"
      ]
     },
     "metadata": {},
     "output_type": "display_data"
    }
   ],
   "source": [
    "#Pie chart showing low/high GPA students\n",
    "fig, ax = plt.subplots(nrows = 1, ncols = 2, figsize = (12,4)) \n",
    "from matplotlib.gridspec import GridSpec\n",
    "\n",
    "grid = GridSpec(1,2)\n",
    "\n",
    "labels = \"Take Vitamins\", \"Doesn't take Vitamins\"\n",
    "sizes = [female_vitamins, 1 - female_vitamins]\n",
    "explode = (0, 0.1)  # only \"explode\" the 2nd slice\n",
    "\n",
    "\n",
    "plt.subplot(grid[0, 0], aspect=1)\n",
    "plt.title(\"Women\")\n",
    "plt.pie(sizes, explode=explode, labels=labels, autopct='%1.1f%%',\n",
    "        shadow=True, startangle=90, colors = (\"peachpuff\", \"olive\"))\n",
    "\n",
    "plt.axis('equal')  # Equal aspect ratio ensures that pie is drawn as a circle.\n",
    "\n",
    "\n",
    "labels = \"Take Vitamins\", \"Doesn't Take Vitamins\"\n",
    "sizes = [male_vitamins, 1 - male_vitamins]\n",
    "explode = (0, 0.1)  \n",
    "\n",
    "\n",
    "plt.subplot(grid[0, 1], aspect=1)\n",
    "plt.pie(sizes, explode=explode, labels=labels, autopct='%1.1f%%',\n",
    "        shadow=True, startangle=90, colors =(\"peachpuff\", \"olive\"))\n",
    "plt.title(\"Men\")\n",
    "plt.axis('equal')  # Equal aspect ratio ensures that pie is drawn as a circle.\n",
    "plt.tight_layout(w_pad = 20)\n",
    "\n",
    "fig.suptitle(\"Vitamin Intake by Gender\", fontsize = 16, fontweight = \"bold\")\n",
    "\n",
    "\n",
    "\n",
    "plt.show()"
   ]
  },
  {
   "cell_type": "markdown",
   "metadata": {
    "collapsed": true
   },
   "source": [
    "Male college students tend to take a lot more vitamins and supplements than female students. In fact, the percentage of those who do is higher than the overall college average of 47.9%. According to the FDA's adverse food events dataset, male college students have a higher risk of death than their female counterparts.\n"
   ]
  },
  {
   "cell_type": "markdown",
   "metadata": {},
   "source": [
    "Next, we sort by income."
   ]
  },
  {
   "cell_type": "code",
   "execution_count": 315,
   "metadata": {},
   "outputs": [
    {
     "data": {
      "text/plain": [
       "0.36666666666666664"
      ]
     },
     "execution_count": 315,
     "metadata": {},
     "output_type": "execute_result"
    }
   ],
   "source": [
    "# 1 - less than $15,000 \n",
    "# 2 - $15,001 to $30,000 \n",
    "# 3 - $30,001 to $50,000 \n",
    "#the above is the key from a word document that came with the dataset. It is also linked at the beginning of the project\n",
    "\n",
    "#students with income less than 50k are \"poor\"\n",
    "poor = college_food[college_food[\"income\"] < 4]\n",
    "poor.income.value_counts()\n",
    "\n",
    "\n",
    "\n",
    "poor_vitamins = poor.vitamins.mean()\n",
    "poor_vitamins"
   ]
  },
  {
   "cell_type": "code",
   "execution_count": 317,
   "metadata": {},
   "outputs": [
    {
     "data": {
      "text/plain": [
       "0.5164835164835165"
      ]
     },
     "execution_count": 317,
     "metadata": {},
     "output_type": "execute_result"
    }
   ],
   "source": [
    "# 4 - $50,001 to $70,000 \n",
    "# 5 - $70,001 to $100,000 \n",
    "# 6 - higher than $100,000\n",
    "\n",
    "#students with income more than 50k are \"rich\n",
    "rich = college_food[college_food[\"income\"] >= 4]\n",
    "rich.income.value_counts()\n",
    "\n",
    "\n",
    "rich_vitamins = rich.vitamins.mean()\n",
    "rich_vitamins"
   ]
  },
  {
   "cell_type": "code",
   "execution_count": 319,
   "metadata": {},
   "outputs": [
    {
     "data": {
      "image/png": "[encoded data removed]",
      "text/plain": [
       "<matplotlib.figure.Figure at 0x1db3408b8d0>"
      ]
     },
     "metadata": {},
     "output_type": "display_data"
    }
   ],
   "source": [
    "#Pie chart showing low/high GPA students\n",
    "fig, ax = plt.subplots(nrows = 1, ncols = 2, figsize = (12,4)) \n",
    "from matplotlib.gridspec import GridSpec\n",
    "\n",
    "grid = GridSpec(1,2)\n",
    "\n",
    "labels = \"Take Vitamins\", \"Doesn't take Vitamins\"\n",
    "sizes = [poor_vitamins, 1 - poor_vitamins]\n",
    "explode = (0, 0.1)  \n",
    "\n",
    "\n",
    "plt.subplot(grid[0, 0], aspect=1)\n",
    "plt.title(\"Income below $50k/year\")\n",
    "plt.pie(sizes, explode=explode, labels=labels, autopct='%1.1f%%',\n",
    "        shadow=True, startangle=90, colors = (\"skyblue\",\"blanchedalmond\"))\n",
    "\n",
    "plt.axis('equal')  \n",
    "\n",
    "#############################################################\n",
    "labels = \"Take Vitamins\", \"Doesn't Take Vitamins\"\n",
    "sizes = [rich_vitamins, 1 - rich_vitamins]\n",
    "explode = (0, 0.1)  \n",
    "\n",
    "\n",
    "plt.subplot(grid[0, 1], aspect=1)\n",
    "plt.pie(sizes, explode=explode, labels=labels, autopct='%1.1f%%',\n",
    "        shadow=True, startangle=90, colors = (\"skyblue\",\"blanchedalmond\"))\n",
    "plt.title(\"Income above $50k/year\")\n",
    "plt.axis('equal')  # Equal aspect ratio ensures that pie is drawn as a circle.\n",
    "plt.tight_layout(w_pad = 20)\n",
    "\n",
    "fig.suptitle(\"Vitamin Intake by Family Income\", fontsize = 14, fontweight = \"bold\")\n",
    "\n",
    "\n",
    "\n",
    "plt.show()"
   ]
  },
  {
   "cell_type": "markdown",
   "metadata": {},
   "source": [
    "Students whose families earn more than 50,000 USD per year tend to take much more vitamins than students from families below 50,000 USD per year. Separating by incomes gives the biggest difference in the likelihood of students taking vitamins. "
   ]
  },
  {
   "cell_type": "markdown",
   "metadata": {},
   "source": [
    "With the adverse food events dataset and the college students' survey dataset put together, it seems like students who have an income above $50,000/year, are male, and have a high GPA are most likely to experience death from food."
   ]
  },
  {
   "cell_type": "markdown",
   "metadata": {},
   "source": [
    "# Starting non-serious illness analysis!"
   ]
  },
  {
   "cell_type": "markdown",
   "metadata": {},
   "source": [
    "To get non-serious illnesses, I first filtered by \"NON-SERIOUS INJURIES/ ILLNESS\" under the \"Outcome\" column. "
   ]
  },
  {
   "cell_type": "markdown",
   "metadata": {},
   "source": [
    "Then I looked at the symptoms column to decide which to further filter by and analyze."
   ]
  },
  {
   "cell_type": "code",
   "execution_count": 320,
   "metadata": {},
   "outputs": [
    {
     "data": {
      "text/html": [
       "<div>\n",
       "<style scoped>\n",
       "    .dataframe tbody tr th:only-of-type {\n",
       "        vertical-align: middle;\n",
       "    }\n",
       "\n",
       "    .dataframe tbody tr th {\n",
       "        vertical-align: top;\n",
       "    }\n",
       "\n",
       "    .dataframe thead th {\n",
       "        text-align: right;\n",
       "    }\n",
       "</style>\n",
       "<table border=\"1\" class=\"dataframe\">\n",
       "  <thead>\n",
       "    <tr style=\"text-align: right;\">\n",
       "      <th></th>\n",
       "      <th>Event_Start_Date</th>\n",
       "      <th>Product_Name</th>\n",
       "      <th>Industry_Name</th>\n",
       "      <th>Consumer_Age</th>\n",
       "      <th>Units_of_Age</th>\n",
       "      <th>Gender</th>\n",
       "      <th>Outcome</th>\n",
       "      <th>Symptoms</th>\n",
       "    </tr>\n",
       "    <tr>\n",
       "      <th>Report_ID</th>\n",
       "      <th></th>\n",
       "      <th></th>\n",
       "      <th></th>\n",
       "      <th></th>\n",
       "      <th></th>\n",
       "      <th></th>\n",
       "      <th></th>\n",
       "      <th></th>\n",
       "    </tr>\n",
       "  </thead>\n",
       "  <tbody>\n",
       "    <tr>\n",
       "      <th>65335</th>\n",
       "      <td>11/24/2003</td>\n",
       "      <td>ENFAMIL LIPIL BABY FORMULA</td>\n",
       "      <td>Baby Food Prod</td>\n",
       "      <td>3.0</td>\n",
       "      <td>Month(s)</td>\n",
       "      <td>Not Available</td>\n",
       "      <td>NON-SERIOUS INJURIES/ ILLNESS</td>\n",
       "      <td>GASTROINTESTINAL DISORDER, VOMITING</td>\n",
       "    </tr>\n",
       "    <tr>\n",
       "      <th>65345</th>\n",
       "      <td>12/21/2003</td>\n",
       "      <td>FRITO LAY FUNYUNS ONION FLAVOR, ONION RINGS</td>\n",
       "      <td>Snack Food Item</td>\n",
       "      <td>10.0</td>\n",
       "      <td>Year(s)</td>\n",
       "      <td>Male</td>\n",
       "      <td>NON-SERIOUS INJURIES/ ILLNESS</td>\n",
       "      <td>CHOKING</td>\n",
       "    </tr>\n",
       "    <tr>\n",
       "      <th>65355</th>\n",
       "      <td>10/27/2003</td>\n",
       "      <td>CAL-C PEACH TROPIC ENRICHED BEVERAGE BLEND</td>\n",
       "      <td>Soft Drink/Water</td>\n",
       "      <td>NaN</td>\n",
       "      <td>Not Available</td>\n",
       "      <td>Male</td>\n",
       "      <td>NON-SERIOUS INJURIES/ ILLNESS</td>\n",
       "      <td>RASH, FLUSHING, MALAISE, FAECES PALE, VOMITING...</td>\n",
       "    </tr>\n",
       "    <tr>\n",
       "      <th>65356</th>\n",
       "      <td>10/27/2003</td>\n",
       "      <td>CAL-C PEACH TROPIC ENRICHED BEVERAGE BLEND</td>\n",
       "      <td>Soft Drink/Water</td>\n",
       "      <td>NaN</td>\n",
       "      <td>Not Available</td>\n",
       "      <td>Not Available</td>\n",
       "      <td>NON-SERIOUS INJURIES/ ILLNESS</td>\n",
       "      <td>LOOSE STOOLS, ABDOMINAL PAIN UPPER, VOMITING, ...</td>\n",
       "    </tr>\n",
       "    <tr>\n",
       "      <th>65357</th>\n",
       "      <td>10/27/2003</td>\n",
       "      <td>CAL-C PEACH TROPIC ENRICHED BEVERAGE BLEND</td>\n",
       "      <td>Soft Drink/Water</td>\n",
       "      <td>NaN</td>\n",
       "      <td>Not Available</td>\n",
       "      <td>Not Available</td>\n",
       "      <td>NON-SERIOUS INJURIES/ ILLNESS</td>\n",
       "      <td>RASH, LOOSE STOOLS, ABDOMINAL PAIN UPPER, MALA...</td>\n",
       "    </tr>\n",
       "  </tbody>\n",
       "</table>\n",
       "</div>"
      ],
      "text/plain": [
       "          Event_Start_Date                                 Product_Name  \\\n",
       "Report_ID                                                                 \n",
       "65335           11/24/2003                   ENFAMIL LIPIL BABY FORMULA   \n",
       "65345           12/21/2003  FRITO LAY FUNYUNS ONION FLAVOR, ONION RINGS   \n",
       "65355           10/27/2003   CAL-C PEACH TROPIC ENRICHED BEVERAGE BLEND   \n",
       "65356           10/27/2003   CAL-C PEACH TROPIC ENRICHED BEVERAGE BLEND   \n",
       "65357           10/27/2003   CAL-C PEACH TROPIC ENRICHED BEVERAGE BLEND   \n",
       "\n",
       "              Industry_Name  Consumer_Age   Units_of_Age         Gender  \\\n",
       "Report_ID                                                                 \n",
       "65335        Baby Food Prod           3.0       Month(s)  Not Available   \n",
       "65345       Snack Food Item          10.0        Year(s)           Male   \n",
       "65355      Soft Drink/Water           NaN  Not Available           Male   \n",
       "65356      Soft Drink/Water           NaN  Not Available  Not Available   \n",
       "65357      Soft Drink/Water           NaN  Not Available  Not Available   \n",
       "\n",
       "                                 Outcome  \\\n",
       "Report_ID                                  \n",
       "65335      NON-SERIOUS INJURIES/ ILLNESS   \n",
       "65345      NON-SERIOUS INJURIES/ ILLNESS   \n",
       "65355      NON-SERIOUS INJURIES/ ILLNESS   \n",
       "65356      NON-SERIOUS INJURIES/ ILLNESS   \n",
       "65357      NON-SERIOUS INJURIES/ ILLNESS   \n",
       "\n",
       "                                                    Symptoms  \n",
       "Report_ID                                                     \n",
       "65335                    GASTROINTESTINAL DISORDER, VOMITING  \n",
       "65345                                                CHOKING  \n",
       "65355      RASH, FLUSHING, MALAISE, FAECES PALE, VOMITING...  \n",
       "65356      LOOSE STOOLS, ABDOMINAL PAIN UPPER, VOMITING, ...  \n",
       "65357      RASH, LOOSE STOOLS, ABDOMINAL PAIN UPPER, MALA...  "
      ]
     },
     "execution_count": 320,
     "metadata": {},
     "output_type": "execute_result"
    }
   ],
   "source": [
    "notSerious = adverse[adverse[\"Outcome\"].str.match('NON-SERIOUS INJURIES/ ILLNESS')]\n",
    "notSerious.head()"
   ]
  },
  {
   "cell_type": "code",
   "execution_count": 321,
   "metadata": {},
   "outputs": [
    {
     "data": {
      "text/plain": [
       "(25356, 8)"
      ]
     },
     "execution_count": 321,
     "metadata": {},
     "output_type": "execute_result"
    }
   ],
   "source": [
    "notSerious.shape"
   ]
  },
  {
   "cell_type": "markdown",
   "metadata": {},
   "source": [
    "There is a huge variety of symptoms, just by looking at the first 5 entries. There are also over 25,000 entries. I chose three symptoms (somewhat arbitrarily): malaise, vomiting, and nausea. "
   ]
  },
  {
   "cell_type": "code",
   "execution_count": 322,
   "metadata": {},
   "outputs": [
    {
     "data": {
      "text/plain": [
       "Vegetables/Vegetable Products             140\n",
       "Nuts/Edible Seed                          120\n",
       "Fruit/Fruit Prod                           88\n",
       "Bakery Prod/Dough/Mix/Icing                88\n",
       "Fishery/Seafood Prod                       83\n",
       "Vit/Min/Prot/Unconv Diet(Human/Animal)     67\n",
       "Soft Drink/Water                           59\n",
       "Snack Food Item                            33\n",
       "Mult Food Dinner/Grav/Sauce/Special        33\n",
       "Cereal Prep/Breakfast Food                 32\n",
       "Milk/Butter/Dried Milk Prod                29\n",
       "Choc/Cocoa Prod                            20\n",
       "Coffee/Tea                                 18\n",
       "Dressing/Condiment                         16\n",
       "Cheese/Cheese Prod                         15\n",
       "Ice Cream Prod                             11\n",
       "Dietary Conv Food/Meal Replacements         9\n",
       "Meat, Meat Products and Poultry             9\n",
       "Prep Salad Prod                             8\n",
       "Whole Grain/Milled Grain Prod/Starch        7\n",
       "Vegetable Oils                              7\n",
       "Egg/Egg Prod                                6\n",
       "Miscellaneous Food Related Items            6\n",
       "Candy W/O Choc/Special/Chew Gum             6\n",
       "Filled Milk/Imit Milk Prod                  6\n",
       "Cosmetics                                   5\n",
       "Soup                                        5\n",
       "Food Sweeteners (Nutritive)                 4\n",
       "Macaroni/Noodle Prod                        4\n",
       "Baby Food Prod                              4\n",
       "Gelatin/Rennet/Pudding Mix/Pie Filling      3\n",
       "Vegetable Protein Prod                      3\n",
       "Beverage Bases/Conc/Nectar                  3\n",
       "Alcoholic Beverage                          2\n",
       "Spices, Flavors And Salts                   1\n",
       "Name: Industry_Name, dtype: int64"
      ]
     },
     "execution_count": 322,
     "metadata": {},
     "output_type": "execute_result"
    }
   ],
   "source": [
    "#I wanted to see types of food are causing malaise. \n",
    "malaise = notSerious[notSerious[\"Symptoms\"].str.match('MALAISE')]\n",
    "#malaise.shape\n",
    "malaise.Industry_Name.value_counts()"
   ]
  },
  {
   "cell_type": "code",
   "execution_count": 323,
   "metadata": {},
   "outputs": [
    {
     "data": {
      "text/plain": [
       "Vegetables/Vegetable Products             505\n",
       "Fruit/Fruit Prod                          295\n",
       "Nuts/Edible Seed                          278\n",
       "Bakery Prod/Dough/Mix/Icing               271\n",
       "Soft Drink/Water                          204\n",
       "Fishery/Seafood Prod                      171\n",
       "Milk/Butter/Dried Milk Prod               158\n",
       "Baby Food Prod                            140\n",
       "Vit/Min/Prot/Unconv Diet(Human/Animal)    123\n",
       "Snack Food Item                           122\n",
       "Mult Food Dinner/Grav/Sauce/Special       117\n",
       "Cereal Prep/Breakfast Food                102\n",
       "Ice Cream Prod                             88\n",
       "Coffee/Tea                                 84\n",
       "Choc/Cocoa Prod                            68\n",
       "Dietary Conv Food/Meal Replacements        46\n",
       "Dressing/Condiment                         45\n",
       "Soup                                       43\n",
       "Cheese/Cheese Prod                         43\n",
       "Whole Grain/Milled Grain Prod/Starch       40\n",
       "Spices, Flavors And Salts                  32\n",
       "Macaroni/Noodle Prod                       32\n",
       "Candy W/O Choc/Special/Chew Gum            31\n",
       "Meat, Meat Products and Poultry            30\n",
       "Egg/Egg Prod                               26\n",
       "Prep Salad Prod                            25\n",
       "Beverage Bases/Conc/Nectar                 17\n",
       "Vegetable Protein Prod                     13\n",
       "Food Sweeteners (Nutritive)                11\n",
       "Filled Milk/Imit Milk Prod                 11\n",
       "Cosmetics                                   8\n",
       "Vegetable Oils                              7\n",
       "Food Additives (Human Use)                  6\n",
       "Gelatin/Rennet/Pudding Mix/Pie Filling      5\n",
       "Food Service/Conveyance                     5\n",
       "Multiple Food Warehouses                    1\n",
       "Name: Industry_Name, dtype: int64"
      ]
     },
     "execution_count": 323,
     "metadata": {},
     "output_type": "execute_result"
    }
   ],
   "source": [
    "#Same idea here: what types are foods are causing vomiting?\n",
    "vomiting = notSerious[notSerious[\"Symptoms\"].str.match('VOMITING')]\n",
    "vomiting.shape\n",
    "vomiting.Industry_Name.value_counts()"
   ]
  },
  {
   "cell_type": "code",
   "execution_count": 324,
   "metadata": {},
   "outputs": [
    {
     "data": {
      "text/plain": [
       "Vegetables/Vegetable Products             293\n",
       "Bakery Prod/Dough/Mix/Icing               234\n",
       "Soft Drink/Water                          223\n",
       "Nuts/Edible Seed                          210\n",
       "Fruit/Fruit Prod                          152\n",
       "Vit/Min/Prot/Unconv Diet(Human/Animal)    129\n",
       "Milk/Butter/Dried Milk Prod               118\n",
       "Fishery/Seafood Prod                      112\n",
       "Cereal Prep/Breakfast Food                101\n",
       "Snack Food Item                            92\n",
       "Mult Food Dinner/Grav/Sauce/Special        80\n",
       "Coffee/Tea                                 51\n",
       "Ice Cream Prod                             50\n",
       "Choc/Cocoa Prod                            50\n",
       "Candy W/O Choc/Special/Chew Gum            30\n",
       "Soup                                       25\n",
       "Whole Grain/Milled Grain Prod/Starch       25\n",
       "Dietary Conv Food/Meal Replacements        25\n",
       "Dressing/Condiment                         24\n",
       "Cheese/Cheese Prod                         21\n",
       "Filled Milk/Imit Milk Prod                 20\n",
       "Macaroni/Noodle Prod                       20\n",
       "Meat, Meat Products and Poultry            19\n",
       "Prep Salad Prod                            18\n",
       "Cosmetics                                  16\n",
       "Egg/Egg Prod                               15\n",
       "Beverage Bases/Conc/Nectar                 11\n",
       "Spices, Flavors And Salts                  10\n",
       "Food Sweeteners (Nutritive)                 7\n",
       "Gelatin/Rennet/Pudding Mix/Pie Filling      6\n",
       "Vegetable Oils                              4\n",
       "Miscellaneous Food Related Items            4\n",
       "Food Additives (Human Use)                  3\n",
       "Food Service/Conveyance                     2\n",
       "Baby Food Prod                              2\n",
       "Vegetable Protein Prod                      1\n",
       "Name: Industry_Name, dtype: int64"
      ]
     },
     "execution_count": 324,
     "metadata": {},
     "output_type": "execute_result"
    }
   ],
   "source": [
    "#What types of food are causing nausea?\n",
    "nausea = notSerious[notSerious[\"Symptoms\"].str.match('NAUSEA')]\n",
    "nausea.shape\n",
    "nausea.Industry_Name.value_counts()"
   ]
  },
  {
   "cell_type": "markdown",
   "metadata": {
    "collapsed": true
   },
   "source": [
    "Overall, it looks like the food groups that cause mild symptoms the most are fruits, nuts, vegetables, and baked goods. \n",
    "The college food dataset happens to have a column for fruits and a column for vegetables, so we'll compare consumption of\n",
    "fruits and vegetables across gender, GPA, and income, which were the same characteristics used for severe symptoms. "
   ]
  },
  {
   "cell_type": "markdown",
   "metadata": {},
   "source": [
    "There is a veggies_day column under college_food, in which students responded with numbers from 1-5 depending on likely they are to consume vegetables. 1 was \"very unlikely\", while 5 was \"very likely\" "
   ]
  },
  {
   "cell_type": "code",
   "execution_count": 325,
   "metadata": {},
   "outputs": [
    {
     "data": {
      "text/plain": [
       "4.024793388429752"
      ]
     },
     "execution_count": 325,
     "metadata": {},
     "output_type": "execute_result"
    }
   ],
   "source": [
    "college_food[\"veggies_day\"].mean()"
   ]
  },
  {
   "cell_type": "markdown",
   "metadata": {},
   "source": [
    "On average, college students are a little bit more than \"likely\", which was a 4/5, to eat vegetables in a day. This is an index of how willing students are, or how much they enjoy eating vegetables, than a measurement of the vegetables they eat in a day. This is comparable across my chosen characterstics because it will be consistent: using the same scale of 1-5."
   ]
  },
  {
   "cell_type": "code",
   "execution_count": 326,
   "metadata": {},
   "outputs": [
    {
     "data": {
      "text/plain": [
       "4.239669421487603"
      ]
     },
     "execution_count": 326,
     "metadata": {},
     "output_type": "execute_result"
    }
   ],
   "source": [
    "college_food[\"fruit_day\"].mean()\n",
    "#in general, college students eat a lot of fruit. "
   ]
  },
  {
   "cell_type": "code",
   "execution_count": 327,
   "metadata": {},
   "outputs": [
    {
     "data": {
      "text/plain": [
       "3.875"
      ]
     },
     "execution_count": 327,
     "metadata": {},
     "output_type": "execute_result"
    }
   ],
   "source": [
    "male_vegetable = male[\"veggies_day\"].mean()\n",
    "male_vegetable\n",
    "#out of 5, 3.875 isn't that many vegetables"
   ]
  },
  {
   "cell_type": "code",
   "execution_count": 328,
   "metadata": {},
   "outputs": [
    {
     "data": {
      "text/plain": [
       "4.041666666666667"
      ]
     },
     "execution_count": 328,
     "metadata": {},
     "output_type": "execute_result"
    }
   ],
   "source": [
    "male_fruits = male[\"fruit_day\"].mean()\n",
    "male_fruits\n",
    "#but they eat more fruit"
   ]
  },
  {
   "cell_type": "code",
   "execution_count": 256,
   "metadata": {},
   "outputs": [
    {
     "data": {
      "text/plain": [
       "4.123287671232877"
      ]
     },
     "execution_count": 256,
     "metadata": {},
     "output_type": "execute_result"
    }
   ],
   "source": [
    "female_vegetable = female[\"veggies_day\"].mean()\n",
    "female_vegetable\n",
    "#"
   ]
  },
  {
   "cell_type": "code",
   "execution_count": 329,
   "metadata": {},
   "outputs": [
    {
     "data": {
      "text/plain": [
       "4.36986301369863"
      ]
     },
     "execution_count": 329,
     "metadata": {},
     "output_type": "execute_result"
    }
   ],
   "source": [
    "female_fruits = female[\"fruit_day\"].mean()\n",
    "female_fruits"
   ]
  },
  {
   "cell_type": "code",
   "execution_count": 349,
   "metadata": {},
   "outputs": [
    {
     "data": {
      "image/png": "[encoded data removed]",
      "text/plain": [
       "<matplotlib.figure.Figure at 0x1db35f7f080>"
      ]
     },
     "metadata": {},
     "output_type": "display_data"
    }
   ],
   "source": [
    "N = 2\n",
    "men_avgs = (male_fruits, male_vegetable)\n",
    "women_avgs = (female_fruits, female_vegetable)\n",
    "\n",
    "ind = np.arange(N) \n",
    "width = 0.2       \n",
    "plt.bar(ind, men_avgs, width, label='Men', color = \"darkslateblue\")\n",
    "plt.bar(ind + width, women_avgs, width,\n",
    "    label='Women', color = \"tomato\")\n",
    "\n",
    "plt.ylabel('Rank out of 5')\n",
    "plt.title('Rankings by food and gender')\n",
    "\n",
    "plt.xticks(ind + width / 2, (\"Fruits\", \"Vegetables\"))\n",
    "plt.legend(loc='best')\n",
    "plt.ylim(3,5)\n",
    "#plt.legend(loc = \"center\")\n",
    "#plt.subplots_adjust(right = 0.7)\n",
    "\n",
    "plt.axhline(y=college_food[\"fruit_day\"].mean(), color='black',  linestyle = '-.')\n",
    "plt.text(y = college_food[\"fruit_day\"].mean(), x = 1.4, s = \"All college student average - fruits\")\n",
    "\n",
    "plt.axhline(y=college_food[\"veggies_day\"].mean(), color='black',  linestyle = '-.')\n",
    "plt.text(y = college_food[\"veggies_day\"].mean(), x = 1.4, s = \"All college student average - vegetables\")\n",
    "\n",
    "plt.show()"
   ]
  },
  {
   "cell_type": "markdown",
   "metadata": {
    "collapsed": true
   },
   "source": [
    "The chart above shows the average responses by men and women to fruits and vegetables. The y-axis starts from 3 and goes to 5 to better show the differences in means. \n",
    "\n",
    "Overall, female college students tend to eat more fruits and vegetables, which puts them at greater risk of non-serious illnesses like vomiting, nausea, and malaise. "
   ]
  },
  {
   "cell_type": "markdown",
   "metadata": {
    "collapsed": true
   },
   "source": [
    "Next, we compare by GPA."
   ]
  },
  {
   "cell_type": "code",
   "execution_count": 331,
   "metadata": {},
   "outputs": [
    {
     "data": {
      "text/plain": [
       "4.265625"
      ]
     },
     "execution_count": 331,
     "metadata": {},
     "output_type": "execute_result"
    }
   ],
   "source": [
    "highGPA_fruits = highGPA[\"fruit_day\"].mean()\n",
    "highGPA_fruits"
   ]
  },
  {
   "cell_type": "code",
   "execution_count": 332,
   "metadata": {},
   "outputs": [
    {
     "data": {
      "text/plain": [
       "4.09375"
      ]
     },
     "execution_count": 332,
     "metadata": {},
     "output_type": "execute_result"
    }
   ],
   "source": [
    "highGPA_vegetables = highGPA[\"veggies_day\"].mean()\n",
    "highGPA_vegetables"
   ]
  },
  {
   "cell_type": "code",
   "execution_count": 333,
   "metadata": {},
   "outputs": [
    {
     "data": {
      "text/plain": [
       "4.2105263157894735"
      ]
     },
     "execution_count": 333,
     "metadata": {},
     "output_type": "execute_result"
    }
   ],
   "source": [
    "lowGPA_fruits = lowGPA[\"fruit_day\"].mean()\n",
    "lowGPA_fruits"
   ]
  },
  {
   "cell_type": "code",
   "execution_count": 334,
   "metadata": {},
   "outputs": [
    {
     "data": {
      "text/plain": [
       "3.9473684210526314"
      ]
     },
     "execution_count": 334,
     "metadata": {},
     "output_type": "execute_result"
    }
   ],
   "source": [
    "lowGPA_vegetables = lowGPA[\"veggies_day\"].mean()\n",
    "lowGPA_vegetables"
   ]
  },
  {
   "cell_type": "code",
   "execution_count": 335,
   "metadata": {},
   "outputs": [
    {
     "data": {
      "image/png": "[encoded data removed]",
      "text/plain": [
       "<matplotlib.figure.Figure at 0x1db3486f160>"
      ]
     },
     "metadata": {},
     "output_type": "display_data"
    }
   ],
   "source": [
    "N = 2\n",
    "highGPA_avgs = (highGPA_fruits, highGPA_vegetables)\n",
    "lowGPA_avgs = (lowGPA_fruits, lowGPA_vegetables)\n",
    "\n",
    "ind = np.arange(N) \n",
    "width = 0.2       \n",
    "plt.bar(ind, highGPA_avgs, width, label='High GPA')\n",
    "plt.bar(ind + width, lowGPA_avgs, width,\n",
    "    label='Low GPA')\n",
    "\n",
    "plt.ylabel('Rank out of 5')\n",
    "plt.title('Rankings by food and GPA')\n",
    "\n",
    "plt.xticks(ind + width / 2, (\"Fruits\", \"Vegetables\"))\n",
    "plt.legend(loc='best')\n",
    "plt.ylim(3,5)\n",
    "#plt.legend(loc = \"center\")\n",
    "#plt.subplots_adjust(right = 0.7)\n",
    "\n",
    "plt.axhline(y=college_food[\"fruit_day\"].mean(), color='black',  linestyle = '-.')\n",
    "plt.text(y = college_food[\"fruit_day\"].mean(), x = 1.4, s = \"All college student average - fruits\")\n",
    "\n",
    "plt.axhline(y=college_food[\"veggies_day\"].mean(), color='black',  linestyle = '-.')\n",
    "plt.text(y = college_food[\"veggies_day\"].mean(), x = 1.4, s = \"All college student average - vegetables\")\n",
    "\n",
    "plt.show()"
   ]
  },
  {
   "cell_type": "markdown",
   "metadata": {},
   "source": [
    "Once again, set the y-axis from 3 to 5 to better show differences. \n",
    "Students with high GPA eat more fruits and vegetables than students with lower GPA's. There is very little difference in fruits consumed across GPA."
   ]
  },
  {
   "cell_type": "markdown",
   "metadata": {},
   "source": [
    "Next, we compare by family income."
   ]
  },
  {
   "cell_type": "code",
   "execution_count": 336,
   "metadata": {},
   "outputs": [
    {
     "data": {
      "text/plain": [
       "4.318681318681318"
      ]
     },
     "execution_count": 336,
     "metadata": {},
     "output_type": "execute_result"
    }
   ],
   "source": [
    "rich_fruits = rich[\"fruit_day\"].mean()\n",
    "rich_fruits"
   ]
  },
  {
   "cell_type": "code",
   "execution_count": 337,
   "metadata": {},
   "outputs": [
    {
     "data": {
      "text/plain": [
       "4.0"
      ]
     },
     "execution_count": 337,
     "metadata": {},
     "output_type": "execute_result"
    }
   ],
   "source": [
    "poor_fruits = poor[\"fruit_day\"].mean()\n",
    "poor_fruits"
   ]
  },
  {
   "cell_type": "code",
   "execution_count": 338,
   "metadata": {},
   "outputs": [
    {
     "data": {
      "text/plain": [
       "4.032967032967033"
      ]
     },
     "execution_count": 338,
     "metadata": {},
     "output_type": "execute_result"
    }
   ],
   "source": [
    "rich_vegetables = rich[\"veggies_day\"].mean()\n",
    "rich_vegetables"
   ]
  },
  {
   "cell_type": "code",
   "execution_count": 339,
   "metadata": {},
   "outputs": [
    {
     "data": {
      "text/plain": [
       "4.0"
      ]
     },
     "execution_count": 339,
     "metadata": {},
     "output_type": "execute_result"
    }
   ],
   "source": [
    "poor_vegetables = poor[\"veggies_day\"].mean()\n",
    "poor_vegetables"
   ]
  },
  {
   "cell_type": "code",
   "execution_count": 340,
   "metadata": {},
   "outputs": [
    {
     "data": {
      "image/png": "[encoded data removed]",
      "text/plain": [
       "<matplotlib.figure.Figure at 0x1db348925f8>"
      ]
     },
     "metadata": {},
     "output_type": "display_data"
    }
   ],
   "source": [
    "N = 2\n",
    "rich_avgs = (rich_fruits, rich_vegetables)\n",
    "poor_avgs = (poor_fruits, poor_vegetables)\n",
    "\n",
    "ind = np.arange(N) \n",
    "width = 0.2       \n",
    "plt.bar(ind, rich_avgs, width, label='Income > $50,000')\n",
    "plt.bar(ind + width, poor_avgs, width,\n",
    "    label='Income < $50,000')\n",
    "\n",
    "plt.ylabel('Rank out of 5')\n",
    "plt.title('Rankings by group and Income')\n",
    "\n",
    "plt.xticks(ind + width / 2, (\"Fruits\", \"Vegetables\"))\n",
    "plt.legend(loc='best')\n",
    "plt.ylim(3,5)\n",
    "#plt.legend(loc = \"center\")\n",
    "#plt.subplots_adjust(right = 0.7)\n",
    "\n",
    "plt.axhline(y=college_food[\"fruit_day\"].mean(), color='black',  linestyle = '-.')\n",
    "plt.text(y = college_food[\"fruit_day\"].mean(), x = 1.4, s = \"All college student average - fruits\")\n",
    "\n",
    "plt.axhline(y=college_food[\"veggies_day\"].mean(), color='black',  linestyle = '-.')\n",
    "plt.text(y = college_food[\"veggies_day\"].mean(), x = 1.4, s = \"All college student average - vegetables\")\n",
    "\n",
    "plt.show()"
   ]
  },
  {
   "cell_type": "markdown",
   "metadata": {
    "collapsed": true
   },
   "source": [
    "The y-axis is again set from 3 to 5. \n",
    "\n",
    "The data suggests that students with higher income eat more fruits and vegetables, with a significant positive difference in fruits consumed. This means that students who come from families with high income are more likely to experience non-serious illness and injury. "
   ]
  },
  {
   "cell_type": "markdown",
   "metadata": {},
   "source": [
    "# Conclusion"
   ]
  },
  {
   "cell_type": "markdown",
   "metadata": {},
   "source": [
    "From the serious illnesses section, we learned that college students who have an income above $50,000/year, are male, and have a high GPA are more likely to experience death from food.\n",
    "\n",
    "From the non-serious illnesses section, we learned that college students who have an income above $50,000/year, high GPA, and are female, are more likely to experience non-serious illnesses from food.\n",
    "\n",
    "**The common characteristic is a high GPA and a high income that puts students at higher risk of both serious and non-serious illness from food.**"
   ]
  },
  {
   "cell_type": "markdown",
   "metadata": {},
   "source": [
    "Of course, this conclusion isn't meant to be taken seriously or followed. The data only suggests a higher risk of death, specifically for serious illness,  and nausea, vomiting, and malaise, specifically for non-serious illness. It is not an aggregate risk factor."
   ]
  },
  {
   "cell_type": "markdown",
   "metadata": {},
   "source": [
    "In addition, there are many variables that I did not control for, or could not control for. \n",
    "\n",
    "Starting from the FDA's dataset: there were many other symptoms that occured before death. I did not group by any sort of cause that symptoms might have suggested. For example, death from allergic reaction should be separated from death by choking on food, especially since vitamins and pills are more likely to cause choking. This would have been difficult to do, since the symptoms were in one long string. \n",
    "\n",
    "The non-serious symptoms I chose were arbitrary. There could be severe vomiting, or severe nausea. I filtered by the Outcomes column which stated that they were non-serious, but level of severity may be subjective. There could be other symptoms that were not serious, such as rashes.\n",
    "\n",
    "\n",
    "The college students' dataset is subject to even more bias. All data was self-reported, which means there is selection bias. Students could also lie and put a higher GPA, or a higher family income, or a random number if they were unsure. They may have reported higher consumption of fruits and vegetables because it makes them sound healthier. "
   ]
  },
  {
   "cell_type": "markdown",
   "metadata": {},
   "source": [
    "Because of the nature of my choice of datasets and vast amount of variables that could not be reasonably controlled for, my conclusions cannot be applied outside of this project. \"Getting a high GPA causes a student to be at higher risk of death\" is an unreasonable conclusion because the data is cross-sectional. Without controlling for many variables, I cannot state a correlation, either.\n",
    "\n",
    "Please eat your fruits and vegetables, and work hard in school! "
   ]
  },
  {
   "cell_type": "markdown",
   "metadata": {},
   "source": [
    "Below is all my variables, compiled."
   ]
  },
  {
   "cell_type": "code",
   "execution_count": 341,
   "metadata": {
    "collapsed": true
   },
   "outputs": [],
   "source": [
    "totals = {\"High Income\": [rich_vitamins, rich_fruits, rich_vegetables], \"Low Income\": [poor_vitamins, poor_fruits, poor_vegetables], \"Male\": \n",
    "         [male_vitamins, male_fruits, male_vegetable], \"Female\": [female_vitamins, female_fruits, female_vegetable], \"High GPA\": \n",
    "         [highGPA_vitamins, highGPA_fruits, highGPA_vegetables], \"Low GPA\": [lowGPA_vitamins, lowGPA_fruits, lowGPA_vegetables], \"Type\": \n",
    "         [\"Vitamins\", \"Fruits\", \"Vegetables\"]}"
   ]
  },
  {
   "cell_type": "code",
   "execution_count": 342,
   "metadata": {
    "collapsed": true
   },
   "outputs": [],
   "source": [
    "totaldf = pd.DataFrame(totals)"
   ]
  },
  {
   "cell_type": "code",
   "execution_count": 343,
   "metadata": {},
   "outputs": [
    {
     "data": {
      "text/html": [
       "<div>\n",
       "<style scoped>\n",
       "    .dataframe tbody tr th:only-of-type {\n",
       "        vertical-align: middle;\n",
       "    }\n",
       "\n",
       "    .dataframe tbody tr th {\n",
       "        vertical-align: top;\n",
       "    }\n",
       "\n",
       "    .dataframe thead th {\n",
       "        text-align: right;\n",
       "    }\n",
       "</style>\n",
       "<table border=\"1\" class=\"dataframe\">\n",
       "  <thead>\n",
       "    <tr style=\"text-align: right;\">\n",
       "      <th></th>\n",
       "      <th>Female</th>\n",
       "      <th>High GPA</th>\n",
       "      <th>High Income</th>\n",
       "      <th>Low GPA</th>\n",
       "      <th>Low Income</th>\n",
       "      <th>Male</th>\n",
       "      <th>Type</th>\n",
       "    </tr>\n",
       "  </thead>\n",
       "  <tbody>\n",
       "    <tr>\n",
       "      <th>0</th>\n",
       "      <td>0.452055</td>\n",
       "      <td>0.468750</td>\n",
       "      <td>0.516484</td>\n",
       "      <td>0.491228</td>\n",
       "      <td>0.366667</td>\n",
       "      <td>0.520833</td>\n",
       "      <td>Vitamins</td>\n",
       "    </tr>\n",
       "    <tr>\n",
       "      <th>1</th>\n",
       "      <td>4.369863</td>\n",
       "      <td>4.265625</td>\n",
       "      <td>4.318681</td>\n",
       "      <td>4.210526</td>\n",
       "      <td>4.000000</td>\n",
       "      <td>4.041667</td>\n",
       "      <td>Fruits</td>\n",
       "    </tr>\n",
       "    <tr>\n",
       "      <th>2</th>\n",
       "      <td>4.123288</td>\n",
       "      <td>4.093750</td>\n",
       "      <td>4.032967</td>\n",
       "      <td>3.947368</td>\n",
       "      <td>4.000000</td>\n",
       "      <td>3.875000</td>\n",
       "      <td>Vegetables</td>\n",
       "    </tr>\n",
       "  </tbody>\n",
       "</table>\n",
       "</div>"
      ],
      "text/plain": [
       "     Female  High GPA  High Income   Low GPA  Low Income      Male        Type\n",
       "0  0.452055  0.468750     0.516484  0.491228    0.366667  0.520833    Vitamins\n",
       "1  4.369863  4.265625     4.318681  4.210526    4.000000  4.041667      Fruits\n",
       "2  4.123288  4.093750     4.032967  3.947368    4.000000  3.875000  Vegetables"
      ]
     },
     "execution_count": 343,
     "metadata": {},
     "output_type": "execute_result"
    }
   ],
   "source": [
    "totaldf"
   ]
  },
  {
   "cell_type": "code",
   "execution_count": 344,
   "metadata": {
    "collapsed": true
   },
   "outputs": [],
   "source": [
    "totaldf.set_index(\"Type\", inplace = True)"
   ]
  },
  {
   "cell_type": "code",
   "execution_count": 345,
   "metadata": {},
   "outputs": [
    {
     "data": {
      "text/html": [
       "<div>\n",
       "<style scoped>\n",
       "    .dataframe tbody tr th:only-of-type {\n",
       "        vertical-align: middle;\n",
       "    }\n",
       "\n",
       "    .dataframe tbody tr th {\n",
       "        vertical-align: top;\n",
       "    }\n",
       "\n",
       "    .dataframe thead th {\n",
       "        text-align: right;\n",
       "    }\n",
       "</style>\n",
       "<table border=\"1\" class=\"dataframe\">\n",
       "  <thead>\n",
       "    <tr style=\"text-align: right;\">\n",
       "      <th></th>\n",
       "      <th>Female</th>\n",
       "      <th>High GPA</th>\n",
       "      <th>High Income</th>\n",
       "      <th>Low GPA</th>\n",
       "      <th>Low Income</th>\n",
       "      <th>Male</th>\n",
       "    </tr>\n",
       "    <tr>\n",
       "      <th>Type</th>\n",
       "      <th></th>\n",
       "      <th></th>\n",
       "      <th></th>\n",
       "      <th></th>\n",
       "      <th></th>\n",
       "      <th></th>\n",
       "    </tr>\n",
       "  </thead>\n",
       "  <tbody>\n",
       "    <tr>\n",
       "      <th>Vitamins</th>\n",
       "      <td>0.452055</td>\n",
       "      <td>0.468750</td>\n",
       "      <td>0.516484</td>\n",
       "      <td>0.491228</td>\n",
       "      <td>0.366667</td>\n",
       "      <td>0.520833</td>\n",
       "    </tr>\n",
       "    <tr>\n",
       "      <th>Fruits</th>\n",
       "      <td>4.369863</td>\n",
       "      <td>4.265625</td>\n",
       "      <td>4.318681</td>\n",
       "      <td>4.210526</td>\n",
       "      <td>4.000000</td>\n",
       "      <td>4.041667</td>\n",
       "    </tr>\n",
       "    <tr>\n",
       "      <th>Vegetables</th>\n",
       "      <td>4.123288</td>\n",
       "      <td>4.093750</td>\n",
       "      <td>4.032967</td>\n",
       "      <td>3.947368</td>\n",
       "      <td>4.000000</td>\n",
       "      <td>3.875000</td>\n",
       "    </tr>\n",
       "  </tbody>\n",
       "</table>\n",
       "</div>"
      ],
      "text/plain": [
       "              Female  High GPA  High Income   Low GPA  Low Income      Male\n",
       "Type                                                                       \n",
       "Vitamins    0.452055  0.468750     0.516484  0.491228    0.366667  0.520833\n",
       "Fruits      4.369863  4.265625     4.318681  4.210526    4.000000  4.041667\n",
       "Vegetables  4.123288  4.093750     4.032967  3.947368    4.000000  3.875000"
      ]
     },
     "execution_count": 345,
     "metadata": {},
     "output_type": "execute_result"
    }
   ],
   "source": [
    "totaldf"
   ]
  },
  {
   "cell_type": "code",
   "execution_count": 346,
   "metadata": {
    "collapsed": true
   },
   "outputs": [],
   "source": [
    "#transposing it\n",
    "totaldf1 = totaldf\n",
    "totaldf1 = totaldf1.transpose()"
   ]
  },
  {
   "cell_type": "code",
   "execution_count": 347,
   "metadata": {},
   "outputs": [
    {
     "data": {
      "text/html": [
       "<div>\n",
       "<style scoped>\n",
       "    .dataframe tbody tr th:only-of-type {\n",
       "        vertical-align: middle;\n",
       "    }\n",
       "\n",
       "    .dataframe tbody tr th {\n",
       "        vertical-align: top;\n",
       "    }\n",
       "\n",
       "    .dataframe thead th {\n",
       "        text-align: right;\n",
       "    }\n",
       "</style>\n",
       "<table border=\"1\" class=\"dataframe\">\n",
       "  <thead>\n",
       "    <tr style=\"text-align: right;\">\n",
       "      <th>Type</th>\n",
       "      <th>Vitamins</th>\n",
       "      <th>Fruits</th>\n",
       "      <th>Vegetables</th>\n",
       "    </tr>\n",
       "  </thead>\n",
       "  <tbody>\n",
       "    <tr>\n",
       "      <th>Female</th>\n",
       "      <td>0.452055</td>\n",
       "      <td>4.369863</td>\n",
       "      <td>4.123288</td>\n",
       "    </tr>\n",
       "    <tr>\n",
       "      <th>High GPA</th>\n",
       "      <td>0.468750</td>\n",
       "      <td>4.265625</td>\n",
       "      <td>4.093750</td>\n",
       "    </tr>\n",
       "    <tr>\n",
       "      <th>High Income</th>\n",
       "      <td>0.516484</td>\n",
       "      <td>4.318681</td>\n",
       "      <td>4.032967</td>\n",
       "    </tr>\n",
       "    <tr>\n",
       "      <th>Low GPA</th>\n",
       "      <td>0.491228</td>\n",
       "      <td>4.210526</td>\n",
       "      <td>3.947368</td>\n",
       "    </tr>\n",
       "    <tr>\n",
       "      <th>Low Income</th>\n",
       "      <td>0.366667</td>\n",
       "      <td>4.000000</td>\n",
       "      <td>4.000000</td>\n",
       "    </tr>\n",
       "    <tr>\n",
       "      <th>Male</th>\n",
       "      <td>0.520833</td>\n",
       "      <td>4.041667</td>\n",
       "      <td>3.875000</td>\n",
       "    </tr>\n",
       "  </tbody>\n",
       "</table>\n",
       "</div>"
      ],
      "text/plain": [
       "Type         Vitamins    Fruits  Vegetables\n",
       "Female       0.452055  4.369863    4.123288\n",
       "High GPA     0.468750  4.265625    4.093750\n",
       "High Income  0.516484  4.318681    4.032967\n",
       "Low GPA      0.491228  4.210526    3.947368\n",
       "Low Income   0.366667  4.000000    4.000000\n",
       "Male         0.520833  4.041667    3.875000"
      ]
     },
     "execution_count": 347,
     "metadata": {},
     "output_type": "execute_result"
    }
   ],
   "source": [
    "totaldf1"
   ]
  },
  {
   "cell_type": "markdown",
   "metadata": {},
   "source": [
    "## Bibliography"
   ]
  },
  {
   "cell_type": "markdown",
   "metadata": {},
   "source": [
    "Borapajo. \"College students' food and cooking preferences\". (2016). Dataset. Kaggle. https://www.kaggle.com/borapajo/food-choices\n",
    "\n",
    "FDA. \"Adverse Food Events - 90,000 product-related user-reported adverse medical events\" (2017). Dataset. Kaggle. https://www.kaggle.com/fda/adverse-food-events"
   ]
  },
  {
   "cell_type": "code",
   "execution_count": null,
   "metadata": {
    "collapsed": true
   },
   "outputs": [],
   "source": []
  }
 ],
 "metadata": {
  "kernelspec": {
   "display_name": "Python 3",
   "language": "python",
   "name": "python3"
  },
  "language_info": {
   "codemirror_mode": {
    "name": "ipython",
    "version": 3
   },
   "file_extension": ".py",
   "mimetype": "text/x-python",
   "name": "python",
   "nbconvert_exporter": "python",
   "pygments_lexer": "ipython3",
   "version": "3.6.3"
  }
 },
 "nbformat": 4,
 "nbformat_minor": 2
}
