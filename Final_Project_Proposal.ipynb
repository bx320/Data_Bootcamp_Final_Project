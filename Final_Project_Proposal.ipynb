{
 "cells": [
  {
   "cell_type": "markdown",
   "metadata": {},
   "source": [
    "# **How hazardous are college students' food preferences to their well being?**"
   ]
  },
  {
   "cell_type": "markdown",
   "metadata": {},
   "source": [
    "**Head Detective:** Brenda Xu <br>\n",
    "**Email:** bx320@stern.nyu.edu"
   ]
  },
  {
   "cell_type": "markdown",
   "metadata": {},
   "source": [
    "For my project, I will be using two data sets I found on Kaggle, in order to see if the food preferences and eating habits of college students put them at a greater risk of certain adverse food events than the average American. The two datasets are: [Adverse Food Events](https://www.kaggle.com/fda/adverse-food-events) and [Food Choices of College Students](https://www.kaggle.com/borapajo/food-choices)."
   ]
  },
  {
   "cell_type": "markdown",
   "metadata": {},
   "source": [
    "**Access:** All of the data I will use can be downloaded off the website as a zip file. For the food choices file, the zip file contains an Excel sheet with all the data, as well as a Word document that gives some supplementary information about notations. For example, survey participants put a \"1\" in the Gender column if they were female, and a \"2\" if they were male. For those columns, I will eventually convert the numbers to data that is easily understandable without an extra document. <br>\n",
    "\n",
    "The adverse food events file contains an Excel file with the data and a PDF with explanations of the data. <br>\n",
    "\n",
    "All the data will be accessed through the read_csv() function. For simplicity, I placed both Excel documents into my current folder before starting."
   ]
  },
  {
   "cell_type": "code",
   "execution_count": 21,
   "metadata": {
    "collapsed": true
   },
   "outputs": [],
   "source": [
    "#below are the required packages\n",
    "import pandas as pd\n",
    "import numpy as np\n",
    "import matplotlib.pyplot as plt\n"
   ]
  },
  {
   "cell_type": "code",
   "execution_count": 22,
   "metadata": {
    "scrolled": true
   },
   "outputs": [
    {
     "data": {
      "text/html": [
       "<div>\n",
       "<style scoped>\n",
       "    .dataframe tbody tr th:only-of-type {\n",
       "        vertical-align: middle;\n",
       "    }\n",
       "\n",
       "    .dataframe tbody tr th {\n",
       "        vertical-align: top;\n",
       "    }\n",
       "\n",
       "    .dataframe thead th {\n",
       "        text-align: right;\n",
       "    }\n",
       "</style>\n",
       "<table border=\"1\" class=\"dataframe\">\n",
       "  <thead>\n",
       "    <tr style=\"text-align: right;\">\n",
       "      <th></th>\n",
       "      <th>RA_Report #</th>\n",
       "      <th>RA_CAERS Created Date</th>\n",
       "      <th>AEC_Event Start Date</th>\n",
       "      <th>PRI_Product Role</th>\n",
       "      <th>PRI_Reported Brand/Product Name</th>\n",
       "      <th>PRI_FDA Industry Code</th>\n",
       "      <th>PRI_FDA Industry Name</th>\n",
       "      <th>CI_Age at Adverse Event</th>\n",
       "      <th>CI_Age Unit</th>\n",
       "      <th>CI_Gender</th>\n",
       "      <th>AEC_One Row Outcomes</th>\n",
       "      <th>SYM_One Row Coded Symptoms</th>\n",
       "    </tr>\n",
       "  </thead>\n",
       "  <tbody>\n",
       "    <tr>\n",
       "      <th>0</th>\n",
       "      <td>65325</td>\n",
       "      <td>1/1/2004</td>\n",
       "      <td>8/4/2003</td>\n",
       "      <td>Suspect</td>\n",
       "      <td>MIDWEST COUNTRY FAIR CHOCOLATE FLAVORED CHIPS</td>\n",
       "      <td>3</td>\n",
       "      <td>Bakery Prod/Dough/Mix/Icing</td>\n",
       "      <td>2.0</td>\n",
       "      <td>Year(s)</td>\n",
       "      <td>Female</td>\n",
       "      <td>VISITED AN ER, VISITED A HEALTH CARE PROVIDER,...</td>\n",
       "      <td>SWELLING FACE, RASH, WHEEZING, COUGH, HOSPITAL...</td>\n",
       "    </tr>\n",
       "    <tr>\n",
       "      <th>1</th>\n",
       "      <td>65325</td>\n",
       "      <td>1/1/2004</td>\n",
       "      <td>8/4/2003</td>\n",
       "      <td>Suspect</td>\n",
       "      <td>MIDWEST COUNTRY FAIR CHOCOLATE FLAVORED CHIPS</td>\n",
       "      <td>3</td>\n",
       "      <td>Bakery Prod/Dough/Mix/Icing</td>\n",
       "      <td>2.0</td>\n",
       "      <td>Year(s)</td>\n",
       "      <td>Female</td>\n",
       "      <td>VISITED AN ER, VISITED A HEALTH CARE PROVIDER,...</td>\n",
       "      <td>SWELLING FACE, WHEEZING, COUGH, RASH, HOSPITAL...</td>\n",
       "    </tr>\n",
       "    <tr>\n",
       "      <th>2</th>\n",
       "      <td>65333</td>\n",
       "      <td>1/1/2004</td>\n",
       "      <td>NaN</td>\n",
       "      <td>Suspect</td>\n",
       "      <td>KROGER CLASSIC CREAM-DE-MINT CANDY MINT CHIP I...</td>\n",
       "      <td>13</td>\n",
       "      <td>Ice Cream Prod</td>\n",
       "      <td>NaN</td>\n",
       "      <td>Not Available</td>\n",
       "      <td>Female</td>\n",
       "      <td>VISITED AN ER</td>\n",
       "      <td>NAUSEA, DYSGEUSIA, DIARRHOEA</td>\n",
       "    </tr>\n",
       "    <tr>\n",
       "      <th>3</th>\n",
       "      <td>65335</td>\n",
       "      <td>1/1/2004</td>\n",
       "      <td>11/24/2003</td>\n",
       "      <td>Suspect</td>\n",
       "      <td>ENFAMIL LIPIL BABY FORMULA</td>\n",
       "      <td>40</td>\n",
       "      <td>Baby Food Prod</td>\n",
       "      <td>3.0</td>\n",
       "      <td>Month(s)</td>\n",
       "      <td>Not Available</td>\n",
       "      <td>NON-SERIOUS INJURIES/ ILLNESS</td>\n",
       "      <td>GASTROINTESTINAL DISORDER, VOMITING</td>\n",
       "    </tr>\n",
       "    <tr>\n",
       "      <th>4</th>\n",
       "      <td>65336</td>\n",
       "      <td>1/1/2004</td>\n",
       "      <td>NaN</td>\n",
       "      <td>Suspect</td>\n",
       "      <td>ENFIMIL LIPIL BABY FORMULA</td>\n",
       "      <td>40</td>\n",
       "      <td>Baby Food Prod</td>\n",
       "      <td>NaN</td>\n",
       "      <td>Not Available</td>\n",
       "      <td>Not Available</td>\n",
       "      <td>VISITED A HEALTH CARE PROVIDER</td>\n",
       "      <td>GASTROINTESTINAL DISORDER, PHYSICAL EXAMINATION</td>\n",
       "    </tr>\n",
       "  </tbody>\n",
       "</table>\n",
       "</div>"
      ],
      "text/plain": [
       "   RA_Report # RA_CAERS Created Date AEC_Event Start Date PRI_Product Role  \\\n",
       "0        65325              1/1/2004             8/4/2003          Suspect   \n",
       "1        65325              1/1/2004             8/4/2003          Suspect   \n",
       "2        65333              1/1/2004                  NaN          Suspect   \n",
       "3        65335              1/1/2004           11/24/2003          Suspect   \n",
       "4        65336              1/1/2004                  NaN          Suspect   \n",
       "\n",
       "                     PRI_Reported Brand/Product Name  PRI_FDA Industry Code  \\\n",
       "0      MIDWEST COUNTRY FAIR CHOCOLATE FLAVORED CHIPS                      3   \n",
       "1      MIDWEST COUNTRY FAIR CHOCOLATE FLAVORED CHIPS                      3   \n",
       "2  KROGER CLASSIC CREAM-DE-MINT CANDY MINT CHIP I...                     13   \n",
       "3                         ENFAMIL LIPIL BABY FORMULA                     40   \n",
       "4                         ENFIMIL LIPIL BABY FORMULA                     40   \n",
       "\n",
       "         PRI_FDA Industry Name  CI_Age at Adverse Event    CI_Age Unit  \\\n",
       "0  Bakery Prod/Dough/Mix/Icing                      2.0        Year(s)   \n",
       "1  Bakery Prod/Dough/Mix/Icing                      2.0        Year(s)   \n",
       "2               Ice Cream Prod                      NaN  Not Available   \n",
       "3               Baby Food Prod                      3.0       Month(s)   \n",
       "4               Baby Food Prod                      NaN  Not Available   \n",
       "\n",
       "       CI_Gender                               AEC_One Row Outcomes  \\\n",
       "0         Female  VISITED AN ER, VISITED A HEALTH CARE PROVIDER,...   \n",
       "1         Female  VISITED AN ER, VISITED A HEALTH CARE PROVIDER,...   \n",
       "2         Female                                      VISITED AN ER   \n",
       "3  Not Available                      NON-SERIOUS INJURIES/ ILLNESS   \n",
       "4  Not Available                     VISITED A HEALTH CARE PROVIDER   \n",
       "\n",
       "                          SYM_One Row Coded Symptoms  \n",
       "0  SWELLING FACE, RASH, WHEEZING, COUGH, HOSPITAL...  \n",
       "1  SWELLING FACE, WHEEZING, COUGH, RASH, HOSPITAL...  \n",
       "2                       NAUSEA, DYSGEUSIA, DIARRHOEA  \n",
       "3                GASTROINTESTINAL DISORDER, VOMITING  \n",
       "4    GASTROINTESTINAL DISORDER, PHYSICAL EXAMINATION  "
      ]
     },
     "execution_count": 22,
     "metadata": {},
     "output_type": "execute_result"
    }
   ],
   "source": [
    "adverse = pd.read_csv(\"CAERS_ASCII_2004_2017Q2.csv\") #this is the name of the adverse food events file\n",
    "adverse.head(5)"
   ]
  },
  {
   "cell_type": "markdown",
   "metadata": {},
   "source": [
    "It looks like most or all of those categories are useful, so I will leave all the columns in but rename them."
   ]
  },
  {
   "cell_type": "code",
   "execution_count": 25,
   "metadata": {
    "collapsed": true
   },
   "outputs": [],
   "source": [
    "adverse.columns = [\"Report ID\", \"Event Entered\", \"Event Start Date\", \"Suspect or Concomitant?\",\"Product Name\", \"Industry Code\", \n",
    "                  \"Industry Name\", \"Consumer Age\", \"Units of Age\", \"Gender\", \"Outcome\", \"Symptoms\"]\n"
   ]
  },
  {
   "cell_type": "markdown",
   "metadata": {},
   "source": [
    "Below is adverse, with columns renamed."
   ]
  },
  {
   "cell_type": "code",
   "execution_count": 2,
   "metadata": {},
   "outputs": [
    {
     "ename": "NameError",
     "evalue": "name 'adverse' is not defined",
     "output_type": "error",
     "traceback": [
      "\u001b[1;31m---------------------------------------------------------------------------\u001b[0m",
      "\u001b[1;31mNameError\u001b[0m                                 Traceback (most recent call last)",
      "\u001b[1;32m<ipython-input-2-e797ba01ef75>\u001b[0m in \u001b[0;36m<module>\u001b[1;34m()\u001b[0m\n\u001b[1;32m----> 1\u001b[1;33m \u001b[0madverse\u001b[0m\u001b[1;33m.\u001b[0m\u001b[0mhead\u001b[0m\u001b[1;33m(\u001b[0m\u001b[1;36m5\u001b[0m\u001b[1;33m)\u001b[0m\u001b[1;33m\u001b[0m\u001b[0m\n\u001b[0m",
      "\u001b[1;31mNameError\u001b[0m: name 'adverse' is not defined"
     ]
    }
   ],
   "source": [
    "adverse.head(5)"
   ]
  },
  {
   "cell_type": "code",
   "execution_count": 27,
   "metadata": {
    "collapsed": true
   },
   "outputs": [],
   "source": [
    "college_food = pd.read_csv(\"food_coded.csv\") #reading in the data about college students' food preferences"
   ]
  },
  {
   "cell_type": "code",
   "execution_count": 28,
   "metadata": {},
   "outputs": [
    {
     "data": {
      "text/html": [
       "<div>\n",
       "<style scoped>\n",
       "    .dataframe tbody tr th:only-of-type {\n",
       "        vertical-align: middle;\n",
       "    }\n",
       "\n",
       "    .dataframe tbody tr th {\n",
       "        vertical-align: top;\n",
       "    }\n",
       "\n",
       "    .dataframe thead th {\n",
       "        text-align: right;\n",
       "    }\n",
       "</style>\n",
       "<table border=\"1\" class=\"dataframe\">\n",
       "  <thead>\n",
       "    <tr style=\"text-align: right;\">\n",
       "      <th></th>\n",
       "      <th>GPA</th>\n",
       "      <th>Gender</th>\n",
       "      <th>breakfast</th>\n",
       "      <th>calories_chicken</th>\n",
       "      <th>calories_day</th>\n",
       "      <th>calories_scone</th>\n",
       "      <th>coffee</th>\n",
       "      <th>comfort_food</th>\n",
       "      <th>comfort_food_reasons</th>\n",
       "      <th>comfort_food_reasons_coded</th>\n",
       "      <th>...</th>\n",
       "      <th>soup</th>\n",
       "      <th>sports</th>\n",
       "      <th>thai_food</th>\n",
       "      <th>tortilla_calories</th>\n",
       "      <th>turkey_calories</th>\n",
       "      <th>type_sports</th>\n",
       "      <th>veggies_day</th>\n",
       "      <th>vitamins</th>\n",
       "      <th>waffle_calories</th>\n",
       "      <th>weight</th>\n",
       "    </tr>\n",
       "  </thead>\n",
       "  <tbody>\n",
       "    <tr>\n",
       "      <th>0</th>\n",
       "      <td>2.4</td>\n",
       "      <td>2</td>\n",
       "      <td>1</td>\n",
       "      <td>430</td>\n",
       "      <td>NaN</td>\n",
       "      <td>315.0</td>\n",
       "      <td>1</td>\n",
       "      <td>none</td>\n",
       "      <td>we dont have comfort</td>\n",
       "      <td>9.0</td>\n",
       "      <td>...</td>\n",
       "      <td>1.0</td>\n",
       "      <td>1.0</td>\n",
       "      <td>1</td>\n",
       "      <td>1165.0</td>\n",
       "      <td>345</td>\n",
       "      <td>car racing</td>\n",
       "      <td>5</td>\n",
       "      <td>1</td>\n",
       "      <td>1315</td>\n",
       "      <td>187</td>\n",
       "    </tr>\n",
       "    <tr>\n",
       "      <th>1</th>\n",
       "      <td>3.654</td>\n",
       "      <td>1</td>\n",
       "      <td>1</td>\n",
       "      <td>610</td>\n",
       "      <td>3.0</td>\n",
       "      <td>420.0</td>\n",
       "      <td>2</td>\n",
       "      <td>chocolate, chips, ice cream</td>\n",
       "      <td>Stress, bored, anger</td>\n",
       "      <td>1.0</td>\n",
       "      <td>...</td>\n",
       "      <td>1.0</td>\n",
       "      <td>1.0</td>\n",
       "      <td>2</td>\n",
       "      <td>725.0</td>\n",
       "      <td>690</td>\n",
       "      <td>Basketball</td>\n",
       "      <td>4</td>\n",
       "      <td>2</td>\n",
       "      <td>900</td>\n",
       "      <td>155</td>\n",
       "    </tr>\n",
       "    <tr>\n",
       "      <th>2</th>\n",
       "      <td>3.3</td>\n",
       "      <td>1</td>\n",
       "      <td>1</td>\n",
       "      <td>720</td>\n",
       "      <td>4.0</td>\n",
       "      <td>420.0</td>\n",
       "      <td>2</td>\n",
       "      <td>frozen yogurt, pizza, fast food</td>\n",
       "      <td>stress, sadness</td>\n",
       "      <td>1.0</td>\n",
       "      <td>...</td>\n",
       "      <td>1.0</td>\n",
       "      <td>2.0</td>\n",
       "      <td>5</td>\n",
       "      <td>1165.0</td>\n",
       "      <td>500</td>\n",
       "      <td>none</td>\n",
       "      <td>5</td>\n",
       "      <td>1</td>\n",
       "      <td>900</td>\n",
       "      <td>I'm not answering this.</td>\n",
       "    </tr>\n",
       "    <tr>\n",
       "      <th>3</th>\n",
       "      <td>3.2</td>\n",
       "      <td>1</td>\n",
       "      <td>1</td>\n",
       "      <td>430</td>\n",
       "      <td>3.0</td>\n",
       "      <td>420.0</td>\n",
       "      <td>2</td>\n",
       "      <td>Pizza, Mac and cheese, ice cream</td>\n",
       "      <td>Boredom</td>\n",
       "      <td>2.0</td>\n",
       "      <td>...</td>\n",
       "      <td>1.0</td>\n",
       "      <td>2.0</td>\n",
       "      <td>5</td>\n",
       "      <td>725.0</td>\n",
       "      <td>690</td>\n",
       "      <td>NaN</td>\n",
       "      <td>3</td>\n",
       "      <td>1</td>\n",
       "      <td>1315</td>\n",
       "      <td>Not sure, 240</td>\n",
       "    </tr>\n",
       "    <tr>\n",
       "      <th>4</th>\n",
       "      <td>3.5</td>\n",
       "      <td>1</td>\n",
       "      <td>1</td>\n",
       "      <td>720</td>\n",
       "      <td>2.0</td>\n",
       "      <td>420.0</td>\n",
       "      <td>2</td>\n",
       "      <td>Ice cream, chocolate, chips</td>\n",
       "      <td>Stress, boredom, cravings</td>\n",
       "      <td>1.0</td>\n",
       "      <td>...</td>\n",
       "      <td>1.0</td>\n",
       "      <td>1.0</td>\n",
       "      <td>4</td>\n",
       "      <td>940.0</td>\n",
       "      <td>500</td>\n",
       "      <td>Softball</td>\n",
       "      <td>4</td>\n",
       "      <td>2</td>\n",
       "      <td>760</td>\n",
       "      <td>190</td>\n",
       "    </tr>\n",
       "  </tbody>\n",
       "</table>\n",
       "<p>5 rows × 61 columns</p>\n",
       "</div>"
      ],
      "text/plain": [
       "     GPA  Gender  breakfast  calories_chicken  calories_day  calories_scone  \\\n",
       "0    2.4       2          1               430           NaN           315.0   \n",
       "1  3.654       1          1               610           3.0           420.0   \n",
       "2    3.3       1          1               720           4.0           420.0   \n",
       "3    3.2       1          1               430           3.0           420.0   \n",
       "4    3.5       1          1               720           2.0           420.0   \n",
       "\n",
       "   coffee                      comfort_food        comfort_food_reasons  \\\n",
       "0       1                              none       we dont have comfort    \n",
       "1       2       chocolate, chips, ice cream        Stress, bored, anger   \n",
       "2       2   frozen yogurt, pizza, fast food             stress, sadness   \n",
       "3       2  Pizza, Mac and cheese, ice cream                     Boredom   \n",
       "4       2      Ice cream, chocolate, chips   Stress, boredom, cravings    \n",
       "\n",
       "   comfort_food_reasons_coded            ...             soup  sports  \\\n",
       "0                         9.0            ...              1.0     1.0   \n",
       "1                         1.0            ...              1.0     1.0   \n",
       "2                         1.0            ...              1.0     2.0   \n",
       "3                         2.0            ...              1.0     2.0   \n",
       "4                         1.0            ...              1.0     1.0   \n",
       "\n",
       "   thai_food tortilla_calories  turkey_calories  type_sports veggies_day  \\\n",
       "0          1            1165.0              345   car racing           5   \n",
       "1          2             725.0              690  Basketball            4   \n",
       "2          5            1165.0              500         none           5   \n",
       "3          5             725.0              690          NaN           3   \n",
       "4          4             940.0              500     Softball           4   \n",
       "\n",
       "   vitamins  waffle_calories                    weight  \n",
       "0         1             1315                       187  \n",
       "1         2              900                       155  \n",
       "2         1              900  I'm not answering this.   \n",
       "3         1             1315             Not sure, 240  \n",
       "4         2              760                       190  \n",
       "\n",
       "[5 rows x 61 columns]"
      ]
     },
     "execution_count": 28,
     "metadata": {},
     "output_type": "execute_result"
    }
   ],
   "source": [
    "college_food.head(5)"
   ]
  },
  {
   "cell_type": "markdown",
   "metadata": {},
   "source": [
    "There are several columns that I do not plan on using, such as \"tortilla_calories\" in college_food. This column asked survey participants how many calories they thought were in a burrito from Chipotle. I'll only take the columns I think will be useful."
   ]
  },
  {
   "cell_type": "code",
   "execution_count": 29,
   "metadata": {},
   "outputs": [
    {
     "data": {
      "text/html": [
       "<div>\n",
       "<style scoped>\n",
       "    .dataframe tbody tr th:only-of-type {\n",
       "        vertical-align: middle;\n",
       "    }\n",
       "\n",
       "    .dataframe tbody tr th {\n",
       "        vertical-align: top;\n",
       "    }\n",
       "\n",
       "    .dataframe thead th {\n",
       "        text-align: right;\n",
       "    }\n",
       "</style>\n",
       "<table border=\"1\" class=\"dataframe\">\n",
       "  <thead>\n",
       "    <tr style=\"text-align: right;\">\n",
       "      <th></th>\n",
       "      <th>Gender</th>\n",
       "      <th>comfort_food</th>\n",
       "      <th>food_childhood</th>\n",
       "      <th>fruit_day</th>\n",
       "      <th>meals_dinner_friend</th>\n",
       "      <th>vitamins</th>\n",
       "    </tr>\n",
       "  </thead>\n",
       "  <tbody>\n",
       "    <tr>\n",
       "      <th>0</th>\n",
       "      <td>2</td>\n",
       "      <td>none</td>\n",
       "      <td>rice  and chicken</td>\n",
       "      <td>5</td>\n",
       "      <td>rice, chicken,  soup</td>\n",
       "      <td>1</td>\n",
       "    </tr>\n",
       "    <tr>\n",
       "      <th>1</th>\n",
       "      <td>1</td>\n",
       "      <td>chocolate, chips, ice cream</td>\n",
       "      <td>chicken and biscuits, beef soup, baked beans</td>\n",
       "      <td>4</td>\n",
       "      <td>Pasta, steak, chicken</td>\n",
       "      <td>2</td>\n",
       "    </tr>\n",
       "    <tr>\n",
       "      <th>2</th>\n",
       "      <td>1</td>\n",
       "      <td>frozen yogurt, pizza, fast food</td>\n",
       "      <td>mac and cheese, pizza, tacos</td>\n",
       "      <td>5</td>\n",
       "      <td>chicken and rice with veggies, pasta, some kin...</td>\n",
       "      <td>1</td>\n",
       "    </tr>\n",
       "    <tr>\n",
       "      <th>3</th>\n",
       "      <td>1</td>\n",
       "      <td>Pizza, Mac and cheese, ice cream</td>\n",
       "      <td>Beef stroganoff, tacos, pizza</td>\n",
       "      <td>4</td>\n",
       "      <td>Grilled chicken \\rStuffed Shells\\rHomemade Chili</td>\n",
       "      <td>1</td>\n",
       "    </tr>\n",
       "    <tr>\n",
       "      <th>4</th>\n",
       "      <td>1</td>\n",
       "      <td>Ice cream, chocolate, chips</td>\n",
       "      <td>Pasta, chicken tender, pizza</td>\n",
       "      <td>4</td>\n",
       "      <td>Chicken Parmesan, Pulled Pork, Spaghetti and m...</td>\n",
       "      <td>2</td>\n",
       "    </tr>\n",
       "  </tbody>\n",
       "</table>\n",
       "</div>"
      ],
      "text/plain": [
       "   Gender                      comfort_food  \\\n",
       "0       2                              none   \n",
       "1       1       chocolate, chips, ice cream   \n",
       "2       1   frozen yogurt, pizza, fast food   \n",
       "3       1  Pizza, Mac and cheese, ice cream   \n",
       "4       1      Ice cream, chocolate, chips    \n",
       "\n",
       "                                 food_childhood  fruit_day  \\\n",
       "0                            rice  and chicken           5   \n",
       "1  chicken and biscuits, beef soup, baked beans          4   \n",
       "2                  mac and cheese, pizza, tacos          5   \n",
       "3                 Beef stroganoff, tacos, pizza          4   \n",
       "4                 Pasta, chicken tender, pizza           4   \n",
       "\n",
       "                                 meals_dinner_friend  vitamins  \n",
       "0                               rice, chicken,  soup         1  \n",
       "1                             Pasta, steak, chicken          2  \n",
       "2  chicken and rice with veggies, pasta, some kin...         1  \n",
       "3   Grilled chicken \\rStuffed Shells\\rHomemade Chili         1  \n",
       "4  Chicken Parmesan, Pulled Pork, Spaghetti and m...         2  "
      ]
     },
     "execution_count": 29,
     "metadata": {},
     "output_type": "execute_result"
    }
   ],
   "source": [
    "college_food1 = college_food[[\"Gender\",\"comfort_food\", \"food_childhood\", \"fruit_day\", \"meals_dinner_friend\", \"vitamins\"]]\n",
    "college_food1.head()\n",
    "#I may change what columns I include if I feel like they may add to my analysis. For example, there is a column that asks on \n",
    "#a scale of 1-5, how likely they are to try Indian food.\n",
    "\n",
    "#I included vitamins because in the adverse food events file, there is an option for vitamin/supplement - caused events."
   ]
  },
  {
   "cell_type": "markdown",
   "metadata": {},
   "source": [
    "I plan to come up with a way to rank the severity of symptoms that are in adverse[\"Symptoms\"]. Since there are a lot of different symptoms, I might come up with an arbitrary way to rank them, such as nausea being 0 for least severe, and death being 100 for most severe. Another way to control for the huge number and variation in data overall, is to focus on just a few symptoms, for example nausea, death, rash, vomiting. "
   ]
  },
  {
   "cell_type": "markdown",
   "metadata": {},
   "source": [
    "If I go with the second option, I want to select a symptom by using .match(\"symptom\") and making a new dataframe using only instances where that symptom showed up. For example, I would create a dataframe with only rows that had \"nausea\" listed as a symptom. There would be dataframes for each symptom I choose. "
   ]
  },
  {
   "cell_type": "markdown",
   "metadata": {},
   "source": [
    "I would then go through the food_choices dataframe, and match foods that college students like, to the [\"Industry Name\"] or [\"Product Name\"] columns under the adverse dataframe. For example, a lot of students seem to like ice cream as their comfort food. That is easily matched to \"Ice cream prod\" entries under [\"Industry Name\"]. In each of my symptom dataframes, I would then either use a count or percentage to check the severity of rate of occurence. My conclusions might sound something like: \"Ice cream appears in x%  of entries under \"nausea\" but 0 times under \"death\". Fruit appears many times under death, and a lot of college students say they eat fruit frequently, so this fruit-eating habit is more hazardous to their well-being than their ice cream habit.\""
   ]
  },
  {
   "cell_type": "code",
   "execution_count": 1,
   "metadata": {},
   "outputs": [
    {
     "ename": "NameError",
     "evalue": "name 'adverse' is not defined",
     "output_type": "error",
     "traceback": [
      "\u001b[1;31m---------------------------------------------------------------------------\u001b[0m",
      "\u001b[1;31mNameError\u001b[0m                                 Traceback (most recent call last)",
      "\u001b[1;32m<ipython-input-1-3a35f20f3845>\u001b[0m in \u001b[0;36m<module>\u001b[1;34m()\u001b[0m\n\u001b[1;32m----> 1\u001b[1;33m \u001b[0mdeaths\u001b[0m \u001b[1;33m=\u001b[0m \u001b[0madverse\u001b[0m\u001b[1;33m[\u001b[0m\u001b[0madverse\u001b[0m\u001b[1;33m[\u001b[0m\u001b[1;34m\"Symptoms\"\u001b[0m\u001b[1;33m]\u001b[0m\u001b[1;33m.\u001b[0m\u001b[0mdropna\u001b[0m\u001b[1;33m(\u001b[0m\u001b[1;33m)\u001b[0m\u001b[1;33m.\u001b[0m\u001b[0mstr\u001b[0m\u001b[1;33m.\u001b[0m\u001b[0mmatch\u001b[0m\u001b[1;33m(\u001b[0m\u001b[1;34m'DEATH'\u001b[0m\u001b[1;33m)\u001b[0m\u001b[1;33m]\u001b[0m\u001b[1;33m\u001b[0m\u001b[0m\n\u001b[0m\u001b[0;32m      2\u001b[0m \u001b[0mdeaths\u001b[0m\u001b[1;33m.\u001b[0m\u001b[0mhead\u001b[0m\u001b[1;33m(\u001b[0m\u001b[1;33m)\u001b[0m\u001b[1;33m\u001b[0m\u001b[0m\n\u001b[0;32m      3\u001b[0m \u001b[1;31m#Question: I tried to make the symptoms dataframes that I mentioned above but I keep getting an error. How do I solve this?\u001b[0m\u001b[1;33m\u001b[0m\u001b[1;33m\u001b[0m\u001b[0m\n",
      "\u001b[1;31mNameError\u001b[0m: name 'adverse' is not defined"
     ]
    }
   ],
   "source": [
    "deaths = adverse[adverse[\"Symptoms\"].dropna().str.match('DEATH')]\n",
    "deaths.head()\n",
    "#Question: I tried to make the symptoms dataframes that \n",
    "#I mentioned above but I keep getting an error. How do I solve this?"
   ]
  },
  {
   "cell_type": "markdown",
   "metadata": {
    "collapsed": true
   },
   "source": [
    "## Summary"
   ]
  },
  {
   "cell_type": "markdown",
   "metadata": {},
   "source": [
    "I have the data I need and I'm confident that I can extract and use it, but I can't get past the IndexingError above. "
   ]
  },
  {
   "cell_type": "code",
   "execution_count": null,
   "metadata": {
    "collapsed": true
   },
   "outputs": [],
   "source": []
  }
 ],
 "metadata": {
  "kernelspec": {
   "display_name": "Python 3",
   "language": "python",
   "name": "python3"
  },
  "language_info": {
   "codemirror_mode": {
    "name": "ipython",
    "version": 3
   },
   "file_extension": ".py",
   "mimetype": "text/x-python",
   "name": "python",
   "nbconvert_exporter": "python",
   "pygments_lexer": "ipython3",
   "version": "3.6.3"
  }
 },
 "nbformat": 4,
 "nbformat_minor": 2
}
